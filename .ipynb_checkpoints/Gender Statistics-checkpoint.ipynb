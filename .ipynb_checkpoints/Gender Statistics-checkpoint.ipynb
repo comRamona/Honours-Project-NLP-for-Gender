{
 "cells": [
  {
   "cell_type": "code",
   "execution_count": 6,
   "metadata": {},
   "outputs": [],
   "source": [
    "import os\n",
    "from enum import Enum\n",
    "import pandas as pd\n",
    "import re\n",
    "from collections import Counter\n",
    "from html.parser import HTMLParser\n",
    "\n",
    "class Gender(Enum):\n",
    "    male = 0\n",
    "    female = 1\n",
    "    unknown = 2\n"
   ]
  },
  {
   "cell_type": "code",
   "execution_count": null,
   "metadata": {
    "collapsed": true
   },
   "outputs": [],
   "source": [
    "pars = HTMLParser()\n",
    "\n",
    "ids_path = os.path.join(os.environ[\"AAN_DIR\"],\n",
    "    \"release/2014/acl-metadata.txt\")\n",
    "\n",
    "female_paths = [os.path.join(os.environ[\"AAN_DIR\"],\n",
    "    f) for f in [\"acl-female.txt\", \"machine_females.txt\", \"machine_femalesNAM.txt\"]]\n",
    "\n",
    "male_paths = [os.path.join(os.environ[\"AAN_DIR\"],\n",
    "    f) for f in [\"acl-male.txt\", \"machine_males.txt\", \"machine_malesNAM.txt\"]]\n",
    "\n",
    "females = set()\n",
    "males = set()\n",
    "for file in female_paths:\n",
    "    with open(file, 'r', encoding = \"utf-8\") as f:\n",
    "        females.update(map(lambda x:  pars.unescape(x.strip()), f.read().split(\"\\n\")))\n",
    "\n",
    "for file in male_paths:\n",
    "    with open(file, 'r', encoding = \"utf-8\") as f:\n",
    "        males.update(map(lambda x:  pars.unescape(x.strip()), f.read().split(\"\\n\")))"
   ]
  },
  {
   "cell_type": "code",
   "execution_count": null,
   "metadata": {
    "collapsed": true
   },
   "outputs": [],
   "source": []
  }
 ],
 "metadata": {
  "kernelspec": {
   "display_name": "Python 3",
   "language": "python",
   "name": "python3"
  },
  "language_info": {
   "codemirror_mode": {
    "name": "ipython",
    "version": 3
   },
   "file_extension": ".py",
   "mimetype": "text/x-python",
   "name": "python",
   "nbconvert_exporter": "python",
   "pygments_lexer": "ipython3",
   "version": "3.6.2"
  }
 },
 "nbformat": 4,
 "nbformat_minor": 2
}
