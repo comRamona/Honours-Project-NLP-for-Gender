{
 "cells": [
  {
   "cell_type": "code",
   "execution_count": 1,
   "metadata": {},
   "outputs": [
    {
     "name": "stdout",
     "output_type": "stream",
     "text": [
      "Hasan,Sasamaria\n"
     ]
    }
   ],
   "source": [
    "from classifyname import NC"
   ]
  },
  {
   "cell_type": "code",
   "execution_count": 2,
   "metadata": {
    "collapsed": true
   },
   "outputs": [],
   "source": [
    "a = NC()"
   ]
  },
  {
   "cell_type": "code",
   "execution_count": 3,
   "metadata": {
    "collapsed": true
   },
   "outputs": [],
   "source": [
    "import os\n",
    "female_paths = [os.path.join(os.environ[\"AAN_DIR\"], \"save/\",\n",
    "        f) for f in [\"acl-female.txt\"]]\n",
    "\n",
    "male_paths = [os.path.join(os.environ[\"AAN_DIR\"], \"save/\",\n",
    "    f) for f in [\"acl-male.txt\"]]\n",
    "\n",
    "females = set()\n",
    "males = set()\n",
    "for file in female_paths:\n",
    "    with open(file, 'r', encoding = \"utf-8\") as f:\n",
    "        females.update(f.read().split(\"\\n\"))\n",
    "for file in male_paths:\n",
    "    with open(file, 'r', encoding = \"utf-8\") as f:\n",
    "        males.update(f.read().split(\"\\n\"))"
   ]
  },
  {
   "cell_type": "code",
   "execution_count": 4,
   "metadata": {
    "collapsed": true
   },
   "outputs": [],
   "source": [
    "import random\n",
    "random.seed(\"08102017\")\n",
    "fem_list = []\n",
    "for i, val in enumerate(random.sample(females, 300)):\n",
    "    fem_list.append(val)"
   ]
  },
  {
   "cell_type": "code",
   "execution_count": 5,
   "metadata": {
    "collapsed": true
   },
   "outputs": [],
   "source": [
    "male_list = []\n",
    "for i, val in enumerate(random.sample(males, 300)):\n",
    "    male_list.append(val)"
   ]
  },
  {
   "cell_type": "code",
   "execution_count": null,
   "metadata": {},
   "outputs": [],
   "source": [
    "my_classif = {}\n",
    "for i in fem_list + male_list:\n",
    "    p = a.classify_name(i)\n",
    "    print(p)\n",
    "    my_classif[i]=p"
   ]
  },
  {
   "cell_type": "code",
   "execution_count": 10,
   "metadata": {},
   "outputs": [
    {
     "name": "stdout",
     "output_type": "stream",
     "text": [
      "Chen, Chia-Yin\n",
      "(<Gender.male: 0>, 'http://www2.warwick.ac.uk/fac/sci/lifesci/research/ychen/yin_chen.jpg Chen, Chia-Yin Bing')\n",
      "Cheng, Charibeth\n",
      "(<Gender.male: 0>, 'https://sites.google.com/site/bspcarino/blog/dlsujune18/DLSU-CCS-pic2-comp.jpg Cheng, Charibeth Bing')\n",
      "Trakultaweekoon, Kanokorn\n",
      "(<Gender.male: 0>, 'https://i1.rgstatic.net/ii/profile.image/AS%3A273626016514066%401442248934293_l/Hossam_Ibrahim2.png Trakultaweekoon, Kanokorn Bing')\n",
      "Bonneau-Maynard, H�l�ne\n",
      "(<Gender.male: 0>, 'http://hubbiz-thumbnails.s3.amazonaws.com/2016/03/15/i/can-i-have-a-slice-of-pi-maynard-h-jackson-students-discuss-pi-for-wabe-radio-listeners.jpg Bonneau-Maynard, H�L�Ne Bing')\n",
      "Ilarraza, A. Diaz de\n",
      "(<Gender.male: 0>, 'http://image.slidesharecdn.com/bartolomeudas-nair-090806132607-phpapp01/95/bartolomeu-das-nair-1-728.jpg%3Fcb%3D1249583207 Ilarraza, A. Diaz De Bing')\n",
      "Yu, Shipeng\n",
      "(<Gender.male: 0>, 'http://www.dbs.informatik.uni-muenchen.de/~spyu/pic/Shipeng%20Yu_small.jpg Yu, Shipeng Bing')\n",
      "Feng, Haodi\n",
      "(<Gender.male: 0>, 'http://cvi.stanford.edu/research/manuscript-awards/2015-manuscript-awards/_jcr_content/main/panel_builder_1374594661/panel_0/panel_builder_910306622/panel_0/panel_builder/panel_0/image.img.620.high.jpg Feng, Haodi Bing')\n",
      "Kim, Eunju\n",
      "(<Gender.male: 0>, 'Eunju found with gPeters')\n",
      "Feng, Yang\n",
      "(<Gender.male: 0>, 'Yang found with gPeters')\n",
      "Zaghouani, Wajdi\n",
      "(<Gender.male: 0>, 'Wajdi found with gender_machine')\n",
      "Veeramachaneni, Sriharsha\n",
      "(<Gender.male: 0>, 'Sriharsha found with gPeters')\n",
      "254\n",
      "11\n"
     ]
    }
   ],
   "source": [
    "correct = 0\n",
    "wrong = 0\n",
    "from metadata import Gender\n",
    "for i,v in enumerate(fem_list):\n",
    "    my_c = my_classif[v][0]\n",
    "    if(my_c == Gender.female):\n",
    "        correct+=1\n",
    "    elif(my_c == Gender.male):\n",
    "        wrong+=1\n",
    "        print(fem_list[i])\n",
    "        print(my_classif[v])\n",
    "        \n",
    "print(correct)\n",
    "print(wrong)"
   ]
  },
  {
   "cell_type": "code",
   "execution_count": null,
   "metadata": {
    "collapsed": true
   },
   "outputs": [],
   "source": []
  },
  {
   "cell_type": "code",
   "execution_count": 8,
   "metadata": {},
   "outputs": [
    {
     "name": "stdout",
     "output_type": "stream",
     "text": [
      "Saint-Amand, Herv�\n",
      "(<Gender.female: 1>, 'http://col58-arsenefie.ac-dijon.fr/IMG/jpg/IMG-20150414-WA0000.jpg Saint-Amand, Herv� Bing')\n",
      "Ellison, Noel\n",
      "(<Gender.female: 1>, 'http://static.wixstatic.com/media/7b71ba_2b71b67eebd44541ac54bdd3d2185461.jpg_srz_967_820_85_22_0.50_1.20_0.00_jpg_srz Ellison, Noel Bing')\n",
      "Li, ShuangLong\n",
      "(<Gender.female: 1>, 'http://www.orie.cornell.edu/orie/images/Yiwei-Li.jpg Li, Shuanglong Bing')\n",
      "Zhao, Jinglei\n",
      "(<Gender.female: 1>, 'http://news.stareastasia.com/wp-content/uploads/2007/01/vicki-zhao-news-0003.jpg Zhao, Jinglei Bing')\n",
      "Lin, Koong H. C.\n",
      "(<Gender.female: 1>, 'http://www.thestar.com.my/~/media/online/2016/03/01/06/09/kong-sooi-lin.ashx/?w=620&h=413&crop=1&hash=82E26B962D6D0D8AA2513BE744624A1DDE48F90C Lin, Koong H. C. Bing')\n",
      "534\n",
      "17\n"
     ]
    }
   ],
   "source": [
    "from metadata import Gender\n",
    "for i,v in enumerate(male_list):\n",
    "    my_c = my_classif[v][0]\n",
    "    if(my_c == Gender.male):\n",
    "        correct+=1\n",
    "    elif(my_c == Gender.female):\n",
    "        wrong+=1\n",
    "        print(male_list[i])\n",
    "        print(my_classif[v])\n",
    "print(correct)\n",
    "print(wrong)"
   ]
  },
  {
   "cell_type": "code",
   "execution_count": null,
   "metadata": {
    "collapsed": true
   },
   "outputs": [],
   "source": []
  }
 ],
 "metadata": {
  "kernelspec": {
   "display_name": "Python 3",
   "language": "python",
   "name": "python3"
  },
  "language_info": {
   "codemirror_mode": {
    "name": "ipython",
    "version": 3
   },
   "file_extension": ".py",
   "mimetype": "text/x-python",
   "name": "python",
   "nbconvert_exporter": "python",
   "pygments_lexer": "ipython3",
   "version": "3.6.3"
  }
 },
 "nbformat": 4,
 "nbformat_minor": 2
}
