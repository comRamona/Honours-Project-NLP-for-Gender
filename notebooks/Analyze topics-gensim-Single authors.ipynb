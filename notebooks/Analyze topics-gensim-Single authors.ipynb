{
 "cells": [
  {
   "cell_type": "code",
   "execution_count": 33,
   "metadata": {},
   "outputs": [],
   "source": [
    "from gensim.models.ldamodel import LdaModel\n",
    "from gensim.models.coherencemodel import CoherenceModel\n",
    "from gensim.corpora import MmCorpus\n",
    "from gensim.corpora import Dictionary\n",
    "from collections import Counter, defaultdict\n",
    "from numpy.random import seed\n",
    "from metadata.metadata import ACL_metadata\n",
    "from _topic_modeling.lda_loader import Loader\n",
    "import _pickle as pkl\n",
    "from metadata import Gender\n",
    "import matplotlib.pyplot as plt\n",
    "import numpy as np\n",
    "import logging\n",
    "import gensim \n",
    "seed(1)\n",
    "logging.basicConfig(format='%(levelname)s : %(message)s', level=logging.INFO)\n",
    "logging.root.level = logging.INFO"
   ]
  },
  {
   "cell_type": "code",
   "execution_count": 2,
   "metadata": {},
   "outputs": [
    {
     "name": "stderr",
     "output_type": "stream",
     "text": [
      "INFO:gensim.corpora.indexedcorpus:loaded corpus index from /home/ramona/Desktop/Honours-LDA/aan/../acl_bow.mm.index\n",
      "INFO:gensim.matutils:initializing corpus reader from /home/ramona/Desktop/Honours-LDA/aan/../acl_bow.mm\n",
      "INFO:gensim.matutils:accepted corpus with 23595 documents, 60434 features, 16454656 non-zero entries\n",
      "INFO:gensim.utils:loading LdaMallet object from /home/ramona/Desktop/Honours-LDA/aan/../malltepy\n",
      "INFO:gensim.utils:loaded /home/ramona/Desktop/Honours-LDA/aan/../malltepy\n"
     ]
    }
   ],
   "source": [
    "loader = Loader()"
   ]
  },
  {
   "cell_type": "code",
   "execution_count": 3,
   "metadata": {},
   "outputs": [
    {
     "name": "stderr",
     "output_type": "stream",
     "text": [
      "INFO:gensim.utils:loading LdaModel object from ../models/model500.pkl\n",
      "INFO:gensim.utils:loading expElogbeta from ../models/model500.pkl.expElogbeta.npy with mmap=None\n",
      "INFO:gensim.utils:setting ignored attribute id2word to None\n",
      "INFO:gensim.utils:setting ignored attribute state to None\n",
      "INFO:gensim.utils:setting ignored attribute dispatcher to None\n",
      "INFO:gensim.utils:loaded ../models/model500.pkl\n",
      "INFO:gensim.utils:loading LdaModel object from ../models/model500.pkl.state\n",
      "INFO:gensim.utils:loaded ../models/model500.pkl.state\n"
     ]
    }
   ],
   "source": [
    "lda = gensim.models.ldamodel.LdaModel.load('../models/model500.pkl')"
   ]
  },
  {
   "cell_type": "code",
   "execution_count": 4,
   "metadata": {},
   "outputs": [],
   "source": [
    "lda.id2word = loader.id2word"
   ]
  },
  {
   "cell_type": "code",
   "execution_count": 5,
   "metadata": {},
   "outputs": [
    {
     "data": {
      "text/plain": [
       "[(0, 0.025419349521797297),\n",
       " (6, 0.025850081552067954),\n",
       " (29, 0.03496036117932748),\n",
       " (39, 0.01566633148413228),\n",
       " (48, 0.01783185430878628),\n",
       " (54, 0.15960324726529973),\n",
       " (59, 0.0560926414138563),\n",
       " (61, 0.01634006535868862),\n",
       " (67, 0.10597677929556155),\n",
       " (70, 0.31895346351565473),\n",
       " (83, 0.1131325160571294),\n",
       " (90, 0.059135231314702316)]"
      ]
     },
     "execution_count": 5,
     "metadata": {},
     "output_type": "execute_result"
    }
   ],
   "source": [
    "lda.get_document_topics(loader.corpus[1])"
   ]
  },
  {
   "cell_type": "code",
   "execution_count": 6,
   "metadata": {},
   "outputs": [
    {
     "data": {
      "text/plain": [
       "60434"
      ]
     },
     "execution_count": 6,
     "metadata": {},
     "output_type": "execute_result"
    }
   ],
   "source": [
    "len(loader.id2word.keys())"
   ]
  },
  {
   "cell_type": "code",
   "execution_count": 30,
   "metadata": {},
   "outputs": [],
   "source": [
    "corpus = loader.corpus"
   ]
  },
  {
   "cell_type": "code",
   "execution_count": 24,
   "metadata": {},
   "outputs": [],
   "source": [
    "gensimcm = CoherenceModel(model=lda, corpus=loader.corpus, dictionary=loader.dic, coherence='u_mass')"
   ]
  },
  {
   "cell_type": "code",
   "execution_count": 8,
   "metadata": {},
   "outputs": [],
   "source": [
    "acl = ACL_metadata()\n",
    "df = acl.meta_df"
   ]
  },
  {
   "cell_type": "code",
   "execution_count": 9,
   "metadata": {},
   "outputs": [
    {
     "name": "stdout",
     "output_type": "stream",
     "text": [
      "tile\n",
      "tag\n",
      "derivation\n",
      "tree\n",
      "grammar\n",
      "ill\n",
      "adjoin\n",
      "elementary\n",
      "elementary_tree\n",
      "auxiliary\n"
     ]
    }
   ],
   "source": [
    "for i, p in lda.get_topic_terms(38):\n",
    "    print(loader.id2word[i])"
   ]
  },
  {
   "cell_type": "code",
   "execution_count": 50,
   "metadata": {},
   "outputs": [
    {
     "data": {
      "text/plain": [
       "[('dik', 0.08976261938500821),\n",
       " ('related', 0.0007147329916274371),\n",
       " ('help', 0.0006987085254538772),\n",
       " ('mark', 0.0006955483797717728),\n",
       " ('extend', 0.0006634935823047455),\n",
       " ('directly', 0.0006452456565045284),\n",
       " ('additional', 0.0006156192029361547),\n",
       " ('thank', 0.0005738868998248706),\n",
       " ('final', 0.0005368903341675367),\n",
       " ('focus', 0.0005129074460133526),\n",
       " ('multiple', 0.0005096771108182055),\n",
       " ('tain', 0.0005075608337405172),\n",
       " ('following', 0.0005003175884311681),\n",
       " ('pose', 0.0004880650916312303),\n",
       " ('reason', 0.0004843616879787706),\n",
       " ('version', 0.00047658690384412675),\n",
       " ('remain', 0.0004765717282190762),\n",
       " ('employ', 0.0004760039906302475),\n",
       " ('one', 0.00047411062109589935),\n",
       " ('rest', 0.00046813829054818804),\n",
       " ('rely', 0.00046676531257057826),\n",
       " ('tend', 0.0004636954445911725),\n",
       " ('respectively', 0.00046303477417796997),\n",
       " ('ne', 0.00046229374780276347),\n",
       " ('usually', 0.0004499605943230428),\n",
       " ('start', 0.00044969911449722785),\n",
       " ('furthermore', 0.00044721037043627147),\n",
       " ('treat', 0.0004413120478841595),\n",
       " ('come', 0.00044048750313320766),\n",
       " ('illustrate', 0.0004387980718434183),\n",
       " ('depend', 0.0004358453665585519),\n",
       " ('line', 0.00043444200957140953),\n",
       " ('aim', 0.000433761611837113),\n",
       " ('tional', 0.0004287095950897054),\n",
       " ('explain', 0.000423659616024853),\n",
       " ('involve', 0.000422439828664872),\n",
       " ('original', 0.00042152504440737596),\n",
       " ('discussion', 0.0004202472189824299),\n",
       " ('construct', 0.000418205810704086),\n",
       " ('demonstrate', 0.00041516425962022103),\n",
       " ('easily', 0.0004129000270649166),\n",
       " ('close', 0.00040981227899762585),\n",
       " ('comparison', 0.00040744355253566014),\n",
       " ('discuss', 0.0004035369696416165),\n",
       " ('cal', 0.0004029320791912142),\n",
       " ('try', 0.0004024430005413383),\n",
       " ('ture', 0.0004016500711053106),\n",
       " ('tic', 0.0003999084664257785),\n",
       " ('similarly', 0.00039938753172729866),\n",
       " ('associate', 0.0003984367544252051)]"
      ]
     },
     "execution_count": 50,
     "metadata": {},
     "output_type": "execute_result"
    }
   ],
   "source": [
    "lda.show_topic(21,50)"
   ]
  },
  {
   "cell_type": "code",
   "execution_count": 32,
   "metadata": {},
   "outputs": [],
   "source": [
    "#doc_topics = list(map(lambda x: lda.get_document_topics(x), corpus))"
   ]
  },
  {
   "cell_type": "code",
   "execution_count": 41,
   "metadata": {},
   "outputs": [],
   "source": [
    "# with open(\"../doc_topics_gensim.pkl\",\"wb\") as f:\n",
    "#     pkl.dump(doc_topics, f)\n",
    "with open(\"../doc_topics_gensim.pkl\",\"rb\") as f:\n",
    "    doc_topics = pkl.load(f)"
   ]
  },
  {
   "cell_type": "code",
   "execution_count": 37,
   "metadata": {},
   "outputs": [],
   "source": [
    "females_topics = []\n",
    "females_topics_proportions = defaultdict(int) # P(topic|gender)'\n",
    "males_topics_proportions = defaultdict(int)\n",
    "fem_norm = 0 # normalizer\n",
    "male_norm = 0\n",
    "males_topics = []\n",
    "for i, file in enumerate(acl.train_files):\n",
    "    try:\n",
    "        topics = doc_topics[i]\n",
    "        gender = df.loc[acl.get_id(file)][\"genders\"][0] #first author\n",
    "        if gender == Gender.female:\n",
    "            for topic, p in topics:\n",
    "                females_topics_proportions[topic] += p\n",
    "            fem_norm +=1\n",
    "        elif gender == Gender.male:\n",
    "            for topic, p in topics:\n",
    "                males_topics_proportions[topic] += p\n",
    "            male_norm +=1\n",
    "    except KeyError:\n",
    "        pass"
   ]
  },
  {
   "cell_type": "code",
   "execution_count": 45,
   "metadata": {},
   "outputs": [
    {
     "data": {
      "text/plain": [
       "[(0, 0.025664048800330137),\n",
       " (3, 0.1472034337219437),\n",
       " (8, 0.015802955455413117),\n",
       " (15, 0.0562709383421671),\n",
       " (25, 0.014178564005336527),\n",
       " (27, 0.011599366266778259),\n",
       " (39, 0.3283978219092855),\n",
       " (51, 0.018097345193582897),\n",
       " (64, 0.029926796385942953),\n",
       " (95, 0.298751496969276)]"
      ]
     },
     "execution_count": 45,
     "metadata": {},
     "output_type": "execute_result"
    }
   ],
   "source": [
    "doc_topics[21]"
   ]
  },
  {
   "cell_type": "code",
   "execution_count": 53,
   "metadata": {},
   "outputs": [
    {
     "name": "stdout",
     "output_type": "stream",
     "text": [
      "Females are 1.54 more likeky than men to write about topic 4\n",
      "Most common words for this topic are:\n",
      "emotion\n",
      "affect\n",
      "emotional\n",
      "social\n",
      "people\n",
      "attitude\n",
      "gender\n",
      "quote\n",
      "male\n",
      "character\n",
      "------------------------------\n",
      "------------------------------\n",
      "Females are 1.57 more likeky than men to write about topic 19\n",
      "Most common words for this topic are:\n",
      "verb\n",
      "subject\n",
      "object\n",
      "argument\n",
      "verbs\n",
      "construction\n",
      "frame\n",
      "complement\n",
      "obj\n",
      "verbal\n",
      "------------------------------\n",
      "------------------------------\n",
      "Females are 2.66 more likeky than men to write about topic 21\n",
      "Most common words for this topic are:\n",
      "dik\n",
      "related\n",
      "help\n",
      "mark\n",
      "extend\n",
      "directly\n",
      "additional\n",
      "thank\n",
      "final\n",
      "focus\n",
      "------------------------------\n",
      "------------------------------\n",
      "Females are 1.65 more likeky than men to write about topic 23\n",
      "Most common words for this topic are:\n",
      "cue\n",
      "scope\n",
      "negation\n",
      "hedge\n",
      "modality\n",
      "uncertainty\n",
      "negate\n",
      "detection\n",
      "statement\n",
      "certainty\n",
      "------------------------------\n",
      "------------------------------\n",
      "Females are 4.87 more likeky than men to write about topic 32\n",
      "Most common words for this topic are:\n",
      "czech_german\n",
      "itu\n",
      "rankboost\n",
      "equiv\n",
      "mph\n",
      "bsl\n",
      "gdp\n",
      "altered\n",
      "about 90% of\n",
      "iwi\n",
      "------------------------------\n",
      "------------------------------\n",
      "Females are 1.85 more likeky than men to write about topic 49\n",
      "Most common words for this topic are:\n",
      "utterance\n",
      "act\n",
      "dialogue\n",
      "speaker\n",
      "plan\n",
      "conversation\n",
      "goal\n",
      "belief\n",
      "agent\n",
      "action\n",
      "------------------------------\n",
      "------------------------------\n",
      "Females are 1.87 more likeky than men to write about topic 71\n",
      "Most common words for this topic are:\n",
      "discourse\n",
      "segment\n",
      "connective\n",
      "segmentation\n",
      "rhetorical\n",
      "boundary\n",
      "rst\n",
      "marker\n",
      "span\n",
      "cue\n",
      "------------------------------\n",
      "------------------------------\n",
      "Females are 1.64 more likeky than men to write about topic 74\n",
      "Most common words for this topic are:\n",
      "preference\n",
      "metaphor\n",
      "literal\n",
      "selectional\n",
      "idiom\n",
      "selectional_preference\n",
      "meaning\n",
      "bnc\n",
      "expression\n",
      "interpretation\n",
      "------------------------------\n",
      "------------------------------\n",
      "Females are 1.88 more likeky than men to write about topic 75\n",
      "Most common words for this topic are:\n",
      "student\n",
      "learner\n",
      "essay\n",
      "native\n",
      "response\n",
      "readability\n",
      "simplification\n",
      "correction\n",
      "read\n",
      "grade\n",
      "------------------------------\n",
      "------------------------------\n",
      "Females are 2.02 more likeky than men to write about topic 79\n",
      "Most common words for this topic are:\n",
      "discourse\n",
      "focus\n",
      "coherence\n",
      "center\n",
      "entity\n",
      "theory\n",
      "interpretation\n",
      "proposition\n",
      "utterance\n",
      "referent\n",
      "------------------------------\n",
      "------------------------------\n",
      "Females are 1.83 more likeky than men to write about topic 86\n",
      "Most common words for this topic are:\n",
      "medical\n",
      "patient\n",
      "clinical\n",
      "disease\n",
      "record\n",
      "drug\n",
      "health\n",
      "umls\n",
      "medicine\n",
      "concept\n",
      "------------------------------\n",
      "------------------------------\n",
      "Females are 1.58 more likeky than men to write about topic 88\n",
      "Most common words for this topic are:\n",
      "annotation\n",
      "annotate\n",
      "annotator\n",
      "scheme\n",
      "mark\n",
      "annotation_scheme\n",
      "treebank\n",
      "guideline\n",
      "annotated\n",
      "czech\n",
      "------------------------------\n",
      "------------------------------\n"
     ]
    }
   ],
   "source": [
    "for idx in range(100):\n",
    "    f = (females_topics_proportions[idx] + 1e-10) / fem_norm\n",
    "    m = (males_topics_proportions[idx] + 1e-10) / male_norm\n",
    "    odds = (f * (1-f)) / (m * (1-m))\n",
    "    if odds > 1.5:\n",
    "        print(\"Females are {0:.2f} more likeky than men to write about topic {1:d}\".format(odds, idx))\n",
    "        print(\"Most common words for this topic are:\")\n",
    "        for w,p in lda.show_topic(idx,10):\n",
    "            print(w,)\n",
    "        print(\"-\"*30)\n",
    "        print(\"-\"*30)\n"
   ]
  },
  {
   "cell_type": "code",
   "execution_count": 54,
   "metadata": {},
   "outputs": [
    {
     "name": "stdout",
     "output_type": "stream",
     "text": [
      "Males are 2.42 more likeky than females to write about topic 20\n",
      "Most common words for this topic are:\n",
      "grammar\n",
      "parse\n",
      "parsing\n",
      "parser\n",
      "free\n",
      "string\n",
      "context_free\n",
      "symbol\n",
      "chart\n",
      "item\n",
      "------------------------------\n",
      "------------------------------\n",
      "Males are 1.86 more likeky than females to write about topic 24\n",
      "Most common words for this topic are:\n",
      "japanese\n",
      "korean\n",
      "expression\n",
      "japan\n",
      "proc\n",
      "accuracy\n",
      "dictionary\n",
      "tokyo\n",
      "thai\n",
      "kanji\n",
      "------------------------------\n",
      "------------------------------\n",
      "Males are 1.58 more likeky than females to write about topic 29\n",
      "Most common words for this topic are:\n",
      "sequence\n",
      "position\n",
      "length\n",
      "right\n",
      "left\n",
      "fig\n",
      "block\n",
      "element\n",
      "line\n",
      "index\n",
      "------------------------------\n",
      "------------------------------\n",
      "Males are 1.58 more likeky than females to write about topic 37\n",
      "Most common words for this topic are:\n",
      "ccg\n",
      "logical\n",
      "logical_form\n",
      "logic\n",
      "parsing\n",
      "predicate\n",
      "steedman\n",
      "parser\n",
      "derivation\n",
      "mooney\n",
      "------------------------------\n",
      "------------------------------\n",
      "Males are 1.61 more likeky than females to write about topic 41\n",
      "Most common words for this topic are:\n",
      "dependency\n",
      "parser\n",
      "parsing\n",
      "parse\n",
      "head\n",
      "dependency_parse\n",
      "nivre\n",
      "treebank\n",
      "arc\n",
      "projective\n",
      "------------------------------\n",
      "------------------------------\n",
      "Males are 1.93 more likeky than females to write about topic 47\n",
      "Most common words for this topic are:\n",
      "finite\n",
      "finite_state\n",
      "transducer\n",
      "string\n",
      "regular\n",
      "symbol\n",
      "automaton\n",
      "transition\n",
      "automata\n",
      "path\n",
      "------------------------------\n",
      "------------------------------\n",
      "Males are 1.74 more likeky than females to write about topic 54\n",
      "Most common words for this topic are:\n",
      "constraint\n",
      "weight\n",
      "linear\n",
      "parameter\n",
      "local\n",
      "update\n",
      "loss\n",
      "variable\n",
      "solution\n",
      "optimization\n",
      "------------------------------\n",
      "------------------------------\n",
      "Males are 1.51 more likeky than females to write about topic 55\n",
      "Most common words for this topic are:\n",
      "proc\n",
      "translation\n",
      "span\n",
      "lattice\n",
      "decoding\n",
      "prune\n",
      "derivation\n",
      "hierarchical\n",
      "beam\n",
      "decoder\n",
      "------------------------------\n",
      "------------------------------\n",
      "Males are 1.61 more likeky than females to write about topic 56\n",
      "Most common words for this topic are:\n",
      "gram\n",
      "probability\n",
      "bigram\n",
      "entropy\n",
      "trigram\n",
      "count\n",
      "unigram\n",
      "estimate\n",
      "size\n",
      "smooth\n",
      "------------------------------\n",
      "------------------------------\n"
     ]
    }
   ],
   "source": [
    "for idx in range(100):\n",
    "    f = (females_topics_proportions[idx] + 1e-10) / fem_norm\n",
    "    m = (males_topics_proportions[idx] + 1e-10) / male_norm\n",
    "    odds = (m * (1-m)) / (f * (1-f))\n",
    "    if odds > 1.5:\n",
    "        print(\"Males are {0:.2f} more likeky than females to write about topic {1:d}\".format(odds, idx))\n",
    "        print(\"Most common words for this topic are:\")\n",
    "        for w,p in lda.show_topic(idx,10):\n",
    "            print(w,)\n",
    "        print(\"-\"*30)\n",
    "        print(\"-\"*30)\n"
   ]
  },
  {
   "cell_type": "code",
   "execution_count": null,
   "metadata": {},
   "outputs": [],
   "source": []
  }
 ],
 "metadata": {
  "kernelspec": {
   "display_name": "Python 3",
   "language": "python",
   "name": "python3"
  },
  "language_info": {
   "codemirror_mode": {
    "name": "ipython",
    "version": 3
   },
   "file_extension": ".py",
   "mimetype": "text/x-python",
   "name": "python",
   "nbconvert_exporter": "python",
   "pygments_lexer": "ipython3",
   "version": "3.6.4"
  }
 },
 "nbformat": 4,
 "nbformat_minor": 2
}
