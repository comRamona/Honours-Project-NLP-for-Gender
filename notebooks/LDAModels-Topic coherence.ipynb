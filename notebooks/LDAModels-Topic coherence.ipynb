{
 "cells": [
  {
   "cell_type": "code",
   "execution_count": 1,
   "metadata": {},
   "outputs": [
    {
     "name": "stderr",
     "output_type": "stream",
     "text": [
      "Using TensorFlow backend.\n",
      "/afs/inf.ed.ac.uk/user/s14/s1427590/miniconda3/envs/mlp3/lib/python3.6/importlib/_bootstrap.py:205: RuntimeWarning: compiletime version 3.5 of module 'tensorflow.python.framework.fast_tensor_util' does not match runtime version 3.6\n",
      "  return f(*args, **kwds)\n"
     ]
    }
   ],
   "source": [
    "from gensim.models.ldamodel import LdaModel\n",
    "from gensim.models.coherencemodel import CoherenceModel\n",
    "from gensim.corpora import MmCorpus\n",
    "from gensim.corpora import Dictionary\n",
    "from collections import Counter, defaultdict\n",
    "from numpy.random import seed\n",
    "import re\n",
    "from metadata.metadata import ACL_metadata\n",
    "from _topic_modeling.lda_loader import Loader\n",
    "import _pickle as pkl\n",
    "from metadata import Gender\n",
    "from _storage.storage import FileDir\n",
    "import matplotlib.pyplot as plt\n",
    "import numpy as np\n",
    "import logging\n",
    "from os.path import join\n",
    "import gensim \n",
    "fd = FileDir()\n",
    "seed(1)\n",
    "logging.basicConfig(format='%(levelname)s : %(message)s', level=logging.INFO)\n",
    "logging.root.level = logging.INFO\n",
    "\n",
    "tableau20 = [(31, 119, 180), (174, 199, 232), (255, 127, 14), (255, 187, 120),    \n",
    "             (44, 160, 44), (152, 223, 138), (214, 39, 40), (255, 152, 150),    \n",
    "             (148, 103, 189), (197, 176, 213), (140, 86, 75), (196, 156, 148),    \n",
    "             (227, 119, 194), (247, 182, 210), (127, 127, 127), (199, 199, 199),    \n",
    "             (188, 189, 34), (219, 219, 141), (23, 190, 207), (158, 218, 229)]  \n",
    "\n",
    "for i in range(len(tableau20)):    \n",
    "    r, g, b = tableau20[i]    \n",
    "    tableau20[i] = (r / 255., g / 255., b / 255.)"
   ]
  },
  {
   "cell_type": "code",
   "execution_count": 5,
   "metadata": {},
   "outputs": [
    {
     "name": "stderr",
     "output_type": "stream",
     "text": [
      "loaded corpus index from /afs/inf.ed.ac.uk/user/s14/s1427590/Honours-LDA/aan/save/acl_bow10.mm.index\n",
      "initializing corpus reader from /afs/inf.ed.ac.uk/user/s14/s1427590/Honours-LDA/aan/save/acl_bow10.mm\n",
      "accepted corpus with 22278 documents, 63996 features, 10941296 non-zero entries\n",
      "loading LdaModel object from /afs/inf.ed.ac.uk/user/s14/s1427590/Honours-LDA/aan/save/ldaseed310lda\n",
      "loading expElogbeta from /afs/inf.ed.ac.uk/user/s14/s1427590/Honours-LDA/aan/save/ldaseed310lda.expElogbeta.npy with mmap=None\n",
      "loading eta from /afs/inf.ed.ac.uk/user/s14/s1427590/Honours-LDA/aan/save/ldaseed310lda.eta.npy with mmap=None\n",
      "setting ignored attribute id2word to None\n",
      "setting ignored attribute dispatcher to None\n",
      "setting ignored attribute state to None\n",
      "loaded /afs/inf.ed.ac.uk/user/s14/s1427590/Honours-LDA/aan/save/ldaseed310lda\n",
      "loading LdaModel object from /afs/inf.ed.ac.uk/user/s14/s1427590/Honours-LDA/aan/save/ldaseed310lda.state\n",
      "loaded /afs/inf.ed.ac.uk/user/s14/s1427590/Honours-LDA/aan/save/ldaseed310lda.state\n",
      "Remember to use acl.modeling_files and modeling_df for topic modeling\n",
      "CorpusAccumulator accumulated stats from 1000 documents\n",
      "CorpusAccumulator accumulated stats from 2000 documents\n",
      "CorpusAccumulator accumulated stats from 3000 documents\n",
      "CorpusAccumulator accumulated stats from 4000 documents\n",
      "CorpusAccumulator accumulated stats from 5000 documents\n",
      "CorpusAccumulator accumulated stats from 6000 documents\n",
      "CorpusAccumulator accumulated stats from 7000 documents\n",
      "CorpusAccumulator accumulated stats from 8000 documents\n",
      "CorpusAccumulator accumulated stats from 9000 documents\n",
      "CorpusAccumulator accumulated stats from 10000 documents\n",
      "CorpusAccumulator accumulated stats from 11000 documents\n",
      "CorpusAccumulator accumulated stats from 12000 documents\n",
      "CorpusAccumulator accumulated stats from 13000 documents\n",
      "CorpusAccumulator accumulated stats from 14000 documents\n",
      "CorpusAccumulator accumulated stats from 15000 documents\n",
      "CorpusAccumulator accumulated stats from 16000 documents\n",
      "CorpusAccumulator accumulated stats from 17000 documents\n",
      "CorpusAccumulator accumulated stats from 18000 documents\n",
      "CorpusAccumulator accumulated stats from 19000 documents\n",
      "CorpusAccumulator accumulated stats from 20000 documents\n",
      "CorpusAccumulator accumulated stats from 21000 documents\n",
      "CorpusAccumulator accumulated stats from 22000 documents\n"
     ]
    },
    {
     "data": {
      "text/plain": [
       "-1.4881249011951649"
      ]
     },
     "execution_count": 5,
     "metadata": {},
     "output_type": "execute_result"
    }
   ],
   "source": [
    "loader = Loader()\n",
    "lda = loader.model\n",
    "lda.id2word = loader.id2word\n",
    "corpus = loader.corpus\n",
    "dictionary = loader.dic\n",
    "dids = loader.doc_ids\n",
    "doc_topics = loader.doc_topics\n",
    "topic_corresp = loader.topic_corresp\n",
    "acl = ACL_metadata()\n",
    "df = acl.modeling_df\n",
    "topic_corresp[15] = \"StatisticalParsing\"\n",
    "gensimcm = CoherenceModel(model=lda, corpus=corpus, dictionary=dictionary, coherence='u_mass')\n",
    "gensimcm.get_coherence()"
   ]
  },
  {
   "cell_type": "code",
   "execution_count": 2,
   "metadata": {},
   "outputs": [
    {
     "name": "stderr",
     "output_type": "stream",
     "text": [
      "loaded corpus index from /afs/inf.ed.ac.uk/user/s14/s1427590/Honours-LDA/aan/save/acl_bow10.mm.index\n",
      "initializing corpus reader from /afs/inf.ed.ac.uk/user/s14/s1427590/Honours-LDA/aan/save/acl_bow10.mm\n",
      "accepted corpus with 22278 documents, 63996 features, 10941296 non-zero entries\n",
      "loading LdaModel object from /afs/inf.ed.ac.uk/user/s14/s1427590/Honours-LDA/aan/save/ldaseed31050topicslda\n",
      "loading expElogbeta from /afs/inf.ed.ac.uk/user/s14/s1427590/Honours-LDA/aan/save/ldaseed31050topicslda.expElogbeta.npy with mmap=None\n",
      "loading eta from /afs/inf.ed.ac.uk/user/s14/s1427590/Honours-LDA/aan/save/ldaseed31050topicslda.eta.npy with mmap=None\n",
      "setting ignored attribute id2word to None\n",
      "setting ignored attribute dispatcher to None\n",
      "setting ignored attribute state to None\n",
      "loaded /afs/inf.ed.ac.uk/user/s14/s1427590/Honours-LDA/aan/save/ldaseed31050topicslda\n",
      "loading LdaModel object from /afs/inf.ed.ac.uk/user/s14/s1427590/Honours-LDA/aan/save/ldaseed31050topicslda.state\n",
      "loaded /afs/inf.ed.ac.uk/user/s14/s1427590/Honours-LDA/aan/save/ldaseed31050topicslda.state\n",
      "Remember to use acl.modeling_files and modeling_df for topic modeling\n",
      "CorpusAccumulator accumulated stats from 1000 documents\n",
      "CorpusAccumulator accumulated stats from 2000 documents\n",
      "CorpusAccumulator accumulated stats from 3000 documents\n",
      "CorpusAccumulator accumulated stats from 4000 documents\n",
      "CorpusAccumulator accumulated stats from 5000 documents\n",
      "CorpusAccumulator accumulated stats from 6000 documents\n",
      "CorpusAccumulator accumulated stats from 7000 documents\n",
      "CorpusAccumulator accumulated stats from 8000 documents\n",
      "CorpusAccumulator accumulated stats from 9000 documents\n",
      "CorpusAccumulator accumulated stats from 10000 documents\n",
      "CorpusAccumulator accumulated stats from 11000 documents\n",
      "CorpusAccumulator accumulated stats from 12000 documents\n",
      "CorpusAccumulator accumulated stats from 13000 documents\n",
      "CorpusAccumulator accumulated stats from 14000 documents\n",
      "CorpusAccumulator accumulated stats from 15000 documents\n",
      "CorpusAccumulator accumulated stats from 16000 documents\n",
      "CorpusAccumulator accumulated stats from 17000 documents\n",
      "CorpusAccumulator accumulated stats from 18000 documents\n",
      "CorpusAccumulator accumulated stats from 19000 documents\n",
      "CorpusAccumulator accumulated stats from 20000 documents\n",
      "CorpusAccumulator accumulated stats from 21000 documents\n",
      "CorpusAccumulator accumulated stats from 22000 documents\n"
     ]
    },
    {
     "data": {
      "text/plain": [
       "-1.3488560673822763"
      ]
     },
     "execution_count": 2,
     "metadata": {},
     "output_type": "execute_result"
    }
   ],
   "source": [
    "loader = Loader(50)\n",
    "lda = loader.model\n",
    "lda.id2word = loader.id2word\n",
    "corpus = loader.corpus\n",
    "dictionary = loader.dic\n",
    "dids = loader.doc_ids\n",
    "doc_topics = loader.doc_topics\n",
    "topic_corresp = loader.topic_corresp\n",
    "acl = ACL_metadata()\n",
    "df = acl.modeling_df\n",
    "topic_corresp[15] = \"StatisticalParsing\"\n",
    "gensimcm = CoherenceModel(model=lda, corpus=corpus, dictionary=dictionary, coherence='u_mass')\n",
    "gensimcm.get_coherence()"
   ]
  },
  {
   "cell_type": "code",
   "execution_count": 3,
   "metadata": {},
   "outputs": [
    {
     "name": "stderr",
     "output_type": "stream",
     "text": [
      "loaded corpus index from /afs/inf.ed.ac.uk/user/s14/s1427590/Honours-LDA/aan/save/acl_bow10.mm.index\n",
      "initializing corpus reader from /afs/inf.ed.ac.uk/user/s14/s1427590/Honours-LDA/aan/save/acl_bow10.mm\n",
      "accepted corpus with 22278 documents, 63996 features, 10941296 non-zero entries\n",
      "loading LdaModel object from /afs/inf.ed.ac.uk/user/s14/s1427590/Honours-LDA/aan/save/ldaseed31075topicslda\n",
      "loading expElogbeta from /afs/inf.ed.ac.uk/user/s14/s1427590/Honours-LDA/aan/save/ldaseed31075topicslda.expElogbeta.npy with mmap=None\n",
      "loading eta from /afs/inf.ed.ac.uk/user/s14/s1427590/Honours-LDA/aan/save/ldaseed31075topicslda.eta.npy with mmap=None\n",
      "setting ignored attribute dispatcher to None\n",
      "setting ignored attribute id2word to None\n",
      "setting ignored attribute state to None\n",
      "loaded /afs/inf.ed.ac.uk/user/s14/s1427590/Honours-LDA/aan/save/ldaseed31075topicslda\n",
      "loading LdaModel object from /afs/inf.ed.ac.uk/user/s14/s1427590/Honours-LDA/aan/save/ldaseed31075topicslda.state\n",
      "loaded /afs/inf.ed.ac.uk/user/s14/s1427590/Honours-LDA/aan/save/ldaseed31075topicslda.state\n",
      "Remember to use acl.modeling_files and modeling_df for topic modeling\n",
      "CorpusAccumulator accumulated stats from 1000 documents\n",
      "CorpusAccumulator accumulated stats from 2000 documents\n",
      "CorpusAccumulator accumulated stats from 3000 documents\n",
      "CorpusAccumulator accumulated stats from 4000 documents\n",
      "CorpusAccumulator accumulated stats from 5000 documents\n",
      "CorpusAccumulator accumulated stats from 6000 documents\n",
      "CorpusAccumulator accumulated stats from 7000 documents\n",
      "CorpusAccumulator accumulated stats from 8000 documents\n",
      "CorpusAccumulator accumulated stats from 9000 documents\n",
      "CorpusAccumulator accumulated stats from 10000 documents\n",
      "CorpusAccumulator accumulated stats from 11000 documents\n",
      "CorpusAccumulator accumulated stats from 12000 documents\n",
      "CorpusAccumulator accumulated stats from 13000 documents\n",
      "CorpusAccumulator accumulated stats from 14000 documents\n",
      "CorpusAccumulator accumulated stats from 15000 documents\n",
      "CorpusAccumulator accumulated stats from 16000 documents\n",
      "CorpusAccumulator accumulated stats from 17000 documents\n",
      "CorpusAccumulator accumulated stats from 18000 documents\n",
      "CorpusAccumulator accumulated stats from 19000 documents\n",
      "CorpusAccumulator accumulated stats from 20000 documents\n",
      "CorpusAccumulator accumulated stats from 21000 documents\n",
      "CorpusAccumulator accumulated stats from 22000 documents\n"
     ]
    },
    {
     "data": {
      "text/plain": [
       "-1.4421929313027944"
      ]
     },
     "execution_count": 3,
     "metadata": {},
     "output_type": "execute_result"
    }
   ],
   "source": [
    "loader = Loader(75)\n",
    "lda = loader.model\n",
    "lda.id2word = loader.id2word\n",
    "corpus = loader.corpus\n",
    "dictionary = loader.dic\n",
    "dids = loader.doc_ids\n",
    "doc_topics = loader.doc_topics\n",
    "topic_corresp = loader.topic_corresp\n",
    "acl = ACL_metadata()\n",
    "df = acl.modeling_df\n",
    "topic_corresp[15] = \"StatisticalParsing\"\n",
    "gensimcm = CoherenceModel(model=lda, corpus=corpus, dictionary=dictionary, coherence='u_mass')\n",
    "gensimcm.get_coherence()"
   ]
  },
  {
   "cell_type": "code",
   "execution_count": null,
   "metadata": {
    "collapsed": true
   },
   "outputs": [],
   "source": []
  }
 ],
 "metadata": {
  "kernelspec": {
   "display_name": "Python 3",
   "language": "python",
   "name": "python3"
  },
  "language_info": {
   "codemirror_mode": {
    "name": "ipython",
    "version": 3
   },
   "file_extension": ".py",
   "mimetype": "text/x-python",
   "name": "python",
   "nbconvert_exporter": "python",
   "pygments_lexer": "ipython3",
   "version": "3.6.2"
  }
 },
 "nbformat": 4,
 "nbformat_minor": 2
}
