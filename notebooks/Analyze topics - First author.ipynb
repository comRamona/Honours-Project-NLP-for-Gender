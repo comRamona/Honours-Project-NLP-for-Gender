{
 "cells": [
  {
   "cell_type": "code",
   "execution_count": 1,
   "metadata": {},
   "outputs": [],
   "source": [
    "from gensim.models.ldamodel import LdaModel\n",
    "from gensim.corpora import MmCorpus\n",
    "from gensim.corpora import Dictionary\n",
    "from collections import Counter\n",
    "from numpy.random import seed\n",
    "from metadata.metadata import ACL_metadata\n",
    "from metadata import Gender\n",
    "import matplotlib.pyplot as plt\n",
    "import numpy as np\n",
    "import logging\n",
    "import gensim \n",
    "seed(1)\n",
    "logging.basicConfig(format='%(levelname)s : %(message)s', level=logging.INFO)\n",
    "logging.root.level = logging.INFO"
   ]
  },
  {
   "cell_type": "code",
   "execution_count": 2,
   "metadata": {},
   "outputs": [
    {
     "name": "stderr",
     "output_type": "stream",
     "text": [
      "INFO:gensim.utils:loading LdaMallet object from ../malltepy\n",
      "INFO:gensim.utils:loaded ../malltepy\n"
     ]
    }
   ],
   "source": [
    "model = gensim.models.wrappers.ldamallet.LdaMallet.load(\"../malltepy\")"
   ]
  },
  {
   "cell_type": "code",
   "execution_count": 3,
   "metadata": {},
   "outputs": [],
   "source": [
    "doc_topics = list(model.load_document_topics())"
   ]
  },
  {
   "cell_type": "code",
   "execution_count": 5,
   "metadata": {},
   "outputs": [],
   "source": [
    "acl = ACL_metadata()\n",
    "df = acl.meta_df"
   ]
  },
  {
   "cell_type": "code",
   "execution_count": 15,
   "metadata": {},
   "outputs": [],
   "source": [
    "females_topics = []\n",
    "males_topics = []\n",
    "for i, file in enumerate(acl.train_files):\n",
    "    try:\n",
    "        topics = doc_topics[i]\n",
    "        top_topic = topics[0][0]\n",
    "        gender = df.loc[acl.get_id(file)][\"genders\"][0] #first author\n",
    "        if gender == Gender.male:\n",
    "            males_topics.append(top_topic)\n",
    "        elif gender == Gender.female:\n",
    "            females_topics.append(top_topic)\n",
    "    except KeyError:\n",
    "        pass"
   ]
  },
  {
   "cell_type": "code",
   "execution_count": 16,
   "metadata": {},
   "outputs": [],
   "source": [
    "o_fem_counter = Counter(females_topics)\n",
    "o_male_counter = Counter(males_topics)"
   ]
  },
  {
   "cell_type": "code",
   "execution_count": 17,
   "metadata": {},
   "outputs": [],
   "source": [
    "fem_counter = Counter()\n",
    "male_counter = Counter()\n",
    "total = sum(o_fem_counter.values(), 0.0)\n",
    "for key in o_fem_counter:\n",
    "    fem_counter[key] = o_fem_counter[key] / total\n",
    "total = sum(o_male_counter.values(), 0.0)\n",
    "for key in o_male_counter:\n",
    "    male_counter[key] = o_male_counter[key] / total"
   ]
  },
  {
   "cell_type": "code",
   "execution_count": 18,
   "metadata": {},
   "outputs": [
    {
     "data": {
      "image/png": "[encoded data removed]",
      "text/plain": [
       "<matplotlib.figure.Figure at 0x7fb01ef81400>"
      ]
     },
     "metadata": {},
     "output_type": "display_data"
    }
   ],
   "source": [
    "fig, (ax1) = plt.subplots(1,1, figsize=(12,8))\n",
    "ax1.spines[\"top\"].set_visible(False)    \n",
    "ax1.spines[\"bottom\"].set_visible(False)    \n",
    "ax1.spines[\"right\"].set_visible(False)    \n",
    "ax1.spines[\"left\"].set_visible(False) \n",
    "\n",
    "labels, values = zip(*Counter(male_counter).items())\n",
    "#values = values/np.sum(values)\n",
    "indexes = np.arange(1,len(labels)+1)\n",
    "width = 1\n",
    "\n",
    "ax1.bar(labels, values, width,label=\"males\",color=\"b\")\n",
    "ax1.set_title(\"Males\")\n",
    "\n",
    "ax1.set_xlabel(\"Topic id\")\n",
    "ax1.set_ylabel(\"Frequency\")\n",
    "ax1.set_title(\"Topics\")\n",
    "ax1.set_xticks(np.arange(1,120,5))\n",
    "plt.legend()\n",
    "plt.savefig(\"../plots/Topics_count_males_first.pdf\",bbox_inces=\"tight\")\n",
    "plt.show()\n"
   ]
  },
  {
   "cell_type": "code",
   "execution_count": 19,
   "metadata": {},
   "outputs": [
    {
     "data": {
      "image/png": "[encoded data removed]",
      "text/plain": [
       "<matplotlib.figure.Figure at 0x7fb01ef4c208>"
      ]
     },
     "metadata": {},
     "output_type": "display_data"
    }
   ],
   "source": [
    "fig, (ax1) = plt.subplots(1,1, figsize=(12,8))\n",
    "ax1.spines[\"top\"].set_visible(False)    \n",
    "ax1.spines[\"bottom\"].set_visible(False)    \n",
    "ax1.spines[\"right\"].set_visible(False)    \n",
    "ax1.spines[\"left\"].set_visible(False) \n",
    "\n",
    "labels, values = zip(*Counter(fem_counter).items())\n",
    "#values = values/np.sum(values)\n",
    "indexes = np.arange(1,len(labels)+1)\n",
    "\n",
    "ax1.bar(labels, values, width,label=\"Females\",alpha=0.5,color=\"r\")\n",
    "ax1.set_xlabel(\"Topic id\")\n",
    "ax1.set_ylabel(\"Frequency\")\n",
    "ax1.set_title(\"Topics\")\n",
    "ax1.set_xticks(np.arange(1,120,5))\n",
    "plt.legend()\n",
    "plt.savefig(\"../plots/Topics_count_females_first.pdf\",bbox_inces=\"tight\")\n",
    "plt.show()\n"
   ]
  },
  {
   "cell_type": "code",
   "execution_count": 20,
   "metadata": {},
   "outputs": [
    {
     "name": "stdout",
     "output_type": "stream",
     "text": [
      "Most common female topics:\n",
      "Topic  89\n",
      "[('dialogue', 0.08174842030855628), ('user', 0.033397232431501014), ('utterance', 0.032288951852453784), ('dialog', 0.022731500427843297), ('act', 0.015118435248805073), ('turn', 0.013307199320150146), ('speak', 0.011997235172831069), ('action', 0.010399431369823048), ('dialogue_act', 0.0085490335832512573), ('agent', 0.0082846910423124299)]\n",
      "Topic  30\n",
      "[('sentiment', 0.057720306932208205), ('opinion', 0.037948975799575894), ('review', 0.028760684694926), ('polarity', 0.027811905646765625), ('negative', 0.025376560348031391), ('positive', 0.02423102988435389), ('aspect', 0.015436241610738255), ('lexicon', 0.012631440876199638), ('sentiment_analysis', 0.011042126664189056), ('positive_negative', 0.010412522134534245)]\n",
      "Topic  26\n",
      "[('plan', 0.025800567663629467), ('action', 0.021057252201188172), ('act', 0.019917237029397475), ('goal', 0.019365341834081978), ('speaker', 0.017036301492460985), ('discourse', 0.017002207580781262), ('utterance', 0.016944674104821731), ('agent', 0.016652744986064113), ('belief', 0.014374845511962702), ('proposition', 0.0095590804872019985)]\n",
      "Topic  11\n",
      "[('theory', 0.015351736190324511), ('element', 0.0098700493717689894), ('property', 0.0087369091636930254), ('meaning', 0.0086314507207761737), ('view', 0.0074627989962078008), ('description', 0.0067622536254030021), ('aspect', 0.0064254322720053028), ('kind', 0.0064028340342374059), ('category', 0.0061241224351000134), ('basic', 0.0060283489512265465)]\n",
      "Topic  91\n",
      "[('summary', 0.073267438812230398), ('summarization', 0.04557207883510879), ('document', 0.035795143109077478), ('content', 0.012875050642263054), ('rouge', 0.01109959247873025), ('topic', 0.0086389742856461949), ('multi', 0.0080878673053549725), ('length', 0.0078823192964895972), ('multi_document', 0.0066103048068444506), ('lin', 0.0061634613093110267)]\n"
     ]
    }
   ],
   "source": [
    "print(\"Most common female topics:\")\n",
    "for t, c in o_fem_counter.most_common(5):\n",
    "    print(\"Topic \",t)\n",
    "    print(model.show_topic(t,10))"
   ]
  },
  {
   "cell_type": "code",
   "execution_count": 21,
   "metadata": {},
   "outputs": [
    {
     "name": "stdout",
     "output_type": "stream",
     "text": [
      "Most common male topics:\n",
      "Topic  89\n",
      "[('dialogue', 0.08174842030855628), ('user', 0.033397232431501014), ('utterance', 0.032288951852453784), ('dialog', 0.022731500427843297), ('act', 0.015118435248805073), ('turn', 0.013307199320150146), ('speak', 0.011997235172831069), ('action', 0.010399431369823048), ('dialogue_act', 0.0085490335832512573), ('agent', 0.0082846910423124299)]\n",
      "Topic  55\n",
      "[('grammar', 0.038628878628394307), ('unification', 0.016610296729198282), ('constraint', 0.010862984727648446), ('head', 0.010842804559103678), ('formalism', 0.0086169319686158017), ('hpsg', 0.0085220851764553941), ('description', 0.0072265183558813083), ('lfg', 0.006304284653385425), ('default', 0.005957185754415421), ('cat', 0.0059127893836169324)]\n",
      "Topic  15\n",
      "[('ion', 0.095312222489212992), ('ica', 0.00820125996426967), ('descr', 0.0056667049740380497), ('par', 0.0051756741226741329), ('iona', 0.0051735846296896062), ('ran', 0.0050523940365870225), ('const', 0.0046595693554958885), ('ruc', 0.0043168925060334106), ('ind', 0.0042040598848689364), ('con', 0.0040640638549056069)]\n",
      "Topic  48\n",
      "[('translation', 0.079531624452575694), ('bleu', 0.021061859689187664), ('target', 0.019621191282372986), ('reorder', 0.015776110630668427), ('smt', 0.012500964733308135), ('reordering', 0.011677725643699748), ('statistical_machine', 0.011578778637737201), ('alignment', 0.011372968865335105), ('och', 0.010385477745828889), ('decoder', 0.0095444281951472427)]\n",
      "Topic  11\n",
      "[('theory', 0.015351736190324511), ('element', 0.0098700493717689894), ('property', 0.0087369091636930254), ('meaning', 0.0086314507207761737), ('view', 0.0074627989962078008), ('description', 0.0067622536254030021), ('aspect', 0.0064254322720053028), ('kind', 0.0064028340342374059), ('category', 0.0061241224351000134), ('basic', 0.0060283489512265465)]\n"
     ]
    }
   ],
   "source": [
    "print(\"Most common male topics:\")\n",
    "for t, c in o_male_counter.most_common(5):\n",
    "    print(\"Topic \",t)\n",
    "    print(model.show_topic(t,10))"
   ]
  },
  {
   "cell_type": "code",
   "execution_count": 25,
   "metadata": {},
   "outputs": [
    {
     "data": {
      "text/plain": [
       "[('grammar', 0.053930878954566698),\n",
       " ('tree', 0.047922124136630037),\n",
       " ('derivation', 0.020669430593844188),\n",
       " ('free', 0.01420835780709389),\n",
       " ('string', 0.013756039838280248),\n",
       " ('context_free', 0.011440857817812325),\n",
       " ('tag', 0.011314380281508983),\n",
       " ('symbol', 0.011112873698246034),\n",
       " ('terminal', 0.010692711035272227),\n",
       " ('production', 0.0097666382270850567)]"
      ]
     },
     "execution_count": 25,
     "metadata": {},
     "output_type": "execute_result"
    }
   ],
   "source": [
    "model.show_topic(24,10)"
   ]
  },
  {
   "cell_type": "code",
   "execution_count": null,
   "metadata": {},
   "outputs": [],
   "source": []
  }
 ],
 "metadata": {
  "kernelspec": {
   "display_name": "Python 3",
   "language": "python",
   "name": "python3"
  },
  "language_info": {
   "codemirror_mode": {
    "name": "ipython",
    "version": 3
   },
   "file_extension": ".py",
   "mimetype": "text/x-python",
   "name": "python",
   "nbconvert_exporter": "python",
   "pygments_lexer": "ipython3",
   "version": "3.6.4"
  }
 },
 "nbformat": 4,
 "nbformat_minor": 2
}
