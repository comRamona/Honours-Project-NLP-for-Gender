{
 "cells": [
  {
   "cell_type": "code",
   "execution_count": 1,
   "metadata": {},
   "outputs": [
    {
     "name": "stderr",
     "output_type": "stream",
     "text": [
      "/home/ramona/anaconda3/envs/mlp/lib/python3.6/site-packages/matplotlib/font_manager.py:281: UserWarning: Matplotlib is building the font cache using fc-list. This may take a moment.\n",
      "  'Matplotlib is building the font cache using fc-list. '\n"
     ]
    },
    {
     "ename": "ModuleNotFoundError",
     "evalue": "No module named 'metadata'",
     "output_type": "error",
     "traceback": [
      "\u001b[0;31m---------------------------------------------------------------------------\u001b[0m",
      "\u001b[0;31mModuleNotFoundError\u001b[0m                       Traceback (most recent call last)",
      "\u001b[0;32m<ipython-input-1-4b57249a6448>\u001b[0m in \u001b[0;36m<module>\u001b[0;34m()\u001b[0m\n\u001b[1;32m      8\u001b[0m \u001b[0;32mimport\u001b[0m \u001b[0mmatplotlib\u001b[0m\u001b[0;34m.\u001b[0m\u001b[0mpyplot\u001b[0m \u001b[0;32mas\u001b[0m \u001b[0mplt\u001b[0m\u001b[0;34m\u001b[0m\u001b[0m\n\u001b[1;32m      9\u001b[0m \u001b[0;32mimport\u001b[0m \u001b[0mseaborn\u001b[0m \u001b[0;32mas\u001b[0m \u001b[0msns\u001b[0m\u001b[0;34m\u001b[0m\u001b[0m\n\u001b[0;32m---> 10\u001b[0;31m \u001b[0;32mfrom\u001b[0m \u001b[0mmetadata\u001b[0m \u001b[0;32mimport\u001b[0m \u001b[0mACL_metadata\u001b[0m\u001b[0;34m\u001b[0m\u001b[0m\n\u001b[0m\u001b[1;32m     11\u001b[0m \u001b[0;32mfrom\u001b[0m \u001b[0mmetadata\u001b[0m \u001b[0;32mimport\u001b[0m \u001b[0mGender\u001b[0m\u001b[0;34m\u001b[0m\u001b[0m\n\u001b[1;32m     12\u001b[0m \u001b[0;32mfrom\u001b[0m \u001b[0mcollections\u001b[0m \u001b[0;32mimport\u001b[0m \u001b[0mdefaultdict\u001b[0m\u001b[0;34m\u001b[0m\u001b[0m\n",
      "\u001b[0;31mModuleNotFoundError\u001b[0m: No module named 'metadata'"
     ]
    }
   ],
   "source": [
    "import os\n",
    "from enum import Enum\n",
    "import pandas as pd\n",
    "import re\n",
    "import numpy as np\n",
    "from collections import Counter\n",
    "import html\n",
    "import matplotlib.pyplot as plt\n",
    "import seaborn as sns\n",
    "from metadata import ACL_metadata\n",
    "from metadata import Gender\n",
    "from collections import defaultdict\n",
    "from itertools import chain\n",
    "# (*) To communicate with Plotly's server, sign in with credentials file\n",
    "import plotly.plotly as py  \n",
    "\n",
    "# (*) Useful Python/Plotly tools\n",
    "import plotly.tools as tls   \n",
    "\n",
    "# (*) Graph objects to piece together plots\n",
    "from plotly.graph_objs import *\n",
    "import plotly \n",
    "plotly.tools.set_credentials_file(username='RamonaComanescu', api_key='ZZR0OIrpZCow6nTAUPR0')\n",
    "plotly.offline.init_notebook_mode()\n",
    "%matplotlib inline"
   ]
  },
  {
   "cell_type": "code",
   "execution_count": null,
   "metadata": {},
   "outputs": [],
   "source": [
    "acl = ACL_metadata()\n",
    "auths = acl.auths\n",
    "known = acl.known\n",
    "known_f = acl.known_f\n",
    "known_m = acl.known_m\n",
    "unique_ids = acl.ids\n",
    "new_unknown = acl.unk\n",
    "df = acl.meta_df"
   ]
  },
  {
   "cell_type": "markdown",
   "metadata": {},
   "source": [
    "## General statistics"
   ]
  },
  {
   "cell_type": "code",
   "execution_count": 4,
   "metadata": {},
   "outputs": [
    {
     "data": {
      "image/png": "[encoded data removed]",
      "text/plain": [
       "<matplotlib.figure.Figure at 0x7f77041afcc0>"
      ]
     },
     "metadata": {},
     "output_type": "display_data"
    }
   ],
   "source": [
    "a=list(map(lambda x: int(x), list(df[\"year\"].values)))\n",
    "plt.hist(a)\n",
    "plt.xlim([1960,2016])\n",
    "plt.xticks(np.arange(1964,2015,5))\n",
    "plt.title(\"Publications by year\")\n",
    "plt.savefig(\"plots/PublicationsByYear\")\n",
    "plt.show()"
   ]
  },
  {
   "cell_type": "code",
   "execution_count": 5,
   "metadata": {},
   "outputs": [
    {
     "name": "stdout",
     "output_type": "stream",
     "text": [
      "23766 papers and 18379 unique authors\n",
      "Average papers per authors 1.29\n"
     ]
    }
   ],
   "source": [
    "print(\"{0} papers and {1} unique authors\".format(df.shape[0],len(acl.auths)))\n",
    "print(\"Average papers per authors {0:.2f}\".format(df.shape[0]/len(acl.auths)))"
   ]
  },
  {
   "cell_type": "code",
   "execution_count": 6,
   "metadata": {
    "collapsed": true
   },
   "outputs": [],
   "source": [
    "categories =list( map(lambda e: e.value,list(chain.from_iterable(df[\"genders\"].values))))\n",
    "from collections import Counter"
   ]
  },
  {
   "cell_type": "code",
   "execution_count": 7,
   "metadata": {
    "collapsed": true
   },
   "outputs": [],
   "source": [
    "f = [0] * len(known_f)\n",
    "m = [1] * len(known_m)\n",
    "u = [2] * len(new_unknown)"
   ]
  },
  {
   "cell_type": "markdown",
   "metadata": {},
   "source": [
    "## Unique authors who have published at least a paper"
   ]
  },
  {
   "cell_type": "code",
   "execution_count": 8,
   "metadata": {},
   "outputs": [
    {
     "name": "stdout",
     "output_type": "stream",
     "text": [
      "Total papers: 23766\n",
      "Females: 4945, Males: 12425, Unknown: 779\n",
      "Females: 0.27 Males: 0.68 Unknown: 0.04\n"
     ]
    }
   ],
   "source": [
    "print(\"Total papers: {0}\".format(df.shape[0]))\n",
    "n = len(auths)\n",
    "print(\"Females: {0}, Males: {1}, Unknown: {2}\".format(len(known_f),len(known_m),len(new_unknown)))\n",
    "print(\"Females: {0:.2f} Males: {1:.2f} Unknown: {2:.2f}\".format(len(known_f)/n, len(known_m)/n,len(new_unknown)/n))"
   ]
  },
  {
   "cell_type": "code",
   "execution_count": 9,
   "metadata": {},
   "outputs": [
    {
     "data": {
      "image/png": "[encoded data removed]",
      "text/plain": [
       "<matplotlib.figure.Figure at 0x7f76d1214d30>"
      ]
     },
     "metadata": {},
     "output_type": "display_data"
    }
   ],
   "source": [
    "axes = plt.hist([m,f,u],label=[\"Males\",\"Females\",\"Unknown\"], bins=3)\n",
    "plt.legend()\n",
    "plt.xticks([0,1,2])\n",
    "plt.yticks(np.arange(0,12000,1000))\n",
    "plt.xlabel(\"Gender\")\n",
    "plt.ylabel(\"Number of authors\")\n",
    "plt.title(\"Authorship by gender\")\n",
    "plt.savefig(\"plots/Authorshipbygender.pdf\")\n",
    "plt.show()\n",
    "plt.show()"
   ]
  },
  {
   "cell_type": "code",
   "execution_count": 10,
   "metadata": {},
   "outputs": [
    {
     "data": {
      "image/png": "[encoded data removed]",
      "text/plain": [
       "<matplotlib.figure.Figure at 0x7f76d1a1ec50>"
      ]
     },
     "metadata": {},
     "output_type": "display_data"
    }
   ],
   "source": [
    "plt.figure()\n",
    "yrs = []\n",
    "x = []\n",
    "y = []\n",
    "z = []\n",
    "year_range = [1978,2015]\n",
    "for i in range(year_range[0],year_range[1]):\n",
    "    year = df[df[\"year\"] == i]\n",
    "    auths = set(chain.from_iterable(year[\"authors\"]))\n",
    "    yf=0\n",
    "    ym=0\n",
    "    yu=0\n",
    "    for a in auths:\n",
    "        if a in known_f: yf+=1\n",
    "        elif a in known_m: ym+=1\n",
    "        else: yu+=1\n",
    "    yrs.append(i)\n",
    "    x.append(yf)\n",
    "    y.append(ym)\n",
    "    z.append(yu)\n",
    "    plt.plot(i,yf,'.r')\n",
    "    plt.plot(i,ym,'.b')\n",
    "    plt.plot(i,yu,'.g')\n",
    "plt.show()"
   ]
  },
  {
   "cell_type": "markdown",
   "metadata": {},
   "source": [
    "## Papers in which at least one authors is a given gender"
   ]
  },
  {
   "cell_type": "code",
   "execution_count": 11,
   "metadata": {
    "collapsed": true
   },
   "outputs": [],
   "source": [
    "total = np.array(x) + np.array(y) + np.array(z)\n",
    "perc_f = x/(total+10e-6) * 100\n",
    "perc_m = y/(total+10e-6) * 100\n",
    "perc_u = z/(total+10e-6) * 100"
   ]
  },
  {
   "cell_type": "code",
   "execution_count": 31,
   "metadata": {},
   "outputs": [
    {
     "data": {
      "image/png": "[encoded data removed]",
      "text/plain": [
       "<matplotlib.figure.Figure at 0x7f76d1aaa908>"
      ]
     },
     "metadata": {},
     "output_type": "display_data"
    }
   ],
   "source": [
    "plt.figure(figsize=(12, 9))\n",
    "ax = plt.subplot(111)\n",
    "# These are the \"Tableau 20\" colors as RGB.    \n",
    "tableau20 = [(31, 119, 180), (174, 199, 232), (255, 127, 14), (255, 187, 120),    \n",
    "             (44, 160, 44), (152, 223, 138), (214, 39, 40), (255, 152, 150),    \n",
    "             (148, 103, 189), (197, 176, 213), (140, 86, 75), (196, 156, 148),    \n",
    "             (227, 119, 194), (247, 182, 210), (127, 127, 127), (199, 199, 199),    \n",
    "             (188, 189, 34), (219, 219, 141), (23, 190, 207), (158, 218, 229)]  \n",
    "\n",
    "\n",
    "def clamp(x): \n",
    "    return max(0, min(x, 255))\n",
    "def get_htmlcol(c):\n",
    "    return \"#{0:02x}{1:02x}{2:02x}\".format(clamp(c[0]), clamp(c[1]), clamp(c[2]))\n",
    "\n",
    "colors = [get_htmlcol(tableau20[2]),get_htmlcol(tableau20[0]),get_htmlcol(tableau20[4])]\n",
    "  \n",
    "# Scale the RGB values to the [0, 1] range, which is the format matplotlib accepts.    \n",
    "for i in range(len(tableau20)):    \n",
    "    r, g, b = tableau20[i]    \n",
    "    tableau20[i] = (r / 255., g / 255., b / 255.)  \n",
    "    \n",
    "mc = tableau20[0]\n",
    "fc = tableau20[2]\n",
    "uc = tableau20[4] \n",
    "plt.plot(yrs,perc_m,'-o',label=\"Male\", color = mc)\n",
    "plt.text(year_range[1], perc_m[-1] - 1, \"Males\", fontsize=14, color = mc)  \n",
    "plt.plot(yrs,perc_f,'-o',label=\"Female\", color = fc)\n",
    "plt.text(year_range[1], perc_f[-1] - 1, \"Females\", fontsize=14, color = fc) \n",
    "plt.plot(yrs,perc_u,'-o',label=\"Unknown\", color = uc)\n",
    "plt.text(year_range[1], perc_u[-1] - 1, \"Unknown\", fontsize=14, color = uc)  \n",
    "ax.spines[\"top\"].set_visible(False)    \n",
    "ax.spines[\"bottom\"].set_visible(False)    \n",
    "ax.spines[\"right\"].set_visible(False)    \n",
    "ax.spines[\"left\"].set_visible(False)    \n",
    "  \n",
    "# Ensure that the axis ticks only show up on the bottom and left of the plot.    \n",
    "# Ticks on the right and top of the plot are generally unnecessary chartjunk.    \n",
    "ax.get_xaxis().tick_bottom()    \n",
    "ax.get_yaxis().tick_left()    \n",
    "  \n",
    "# Limit the range of the plot to only where the data is.    \n",
    "# Avoid unnecessary whitespace.    \n",
    "plt.ylim(0, 90)    \n",
    "plt.xlim(year_range[0], year_range[1] + 2)    \n",
    "for f,yr in enumerate([-1, -4 , -7, -10, -15, -20, - 25]):\n",
    "    for i,m in enumerate([perc_f, perc_m, perc_u]):\n",
    "        plt.text(yrs[yr], m[yr] + 8, \"{0:.1f}\".format(m[yr]), fontsize=14, color=colors[i])\n",
    "        \n",
    "b=np.arange(year_range[0],year_range[1],10)\n",
    "plt.xticks(b)\n",
    "plt.ylabel(\"Percentage\")\n",
    "plt.title(\"Authorship by Year\")\n",
    "mpl_fig1 = plt.gcf()\n",
    "plt.savefig(\"plots/GenderByYearLabels.pdf\")\n",
    "plt.show()\n",
    "#COOauthors\n",
    "#ratios"
   ]
  },
  {
   "cell_type": "code",
   "execution_count": 18,
   "metadata": {},
   "outputs": [
    {
     "data": {
      "text/html": [
       "<iframe id=\"igraph\" scrolling=\"no\" style=\"border:none;\" seamless=\"seamless\" src=\"https://plot.ly/~RamonaComanescu/10.embed\" height=\"648px\" width=\"864px\"></iframe>"
      ],
      "text/plain": [
       "<plotly.tools.PlotlyDisplay object>"
      ]
     },
     "execution_count": 18,
     "metadata": {},
     "output_type": "execute_result"
    }
   ],
   "source": [
    "py_fig1 = tls.mpl_to_plotly(mpl_fig1, verbose=False, strip_style=True)\n",
    "# (1) Plot mpl figure object as a Plotly plot with default style options\n",
    "# Delete misplaced legend annotations \n",
    "py_fig1['layout'].pop('annotations', None)\n",
    "\n",
    "legends = [dict(\n",
    "        x=yrs[-1] + 3,\n",
    "        y=perc_m[-1] + 2,\n",
    "        xref='x',\n",
    "        yref='y',\n",
    "        text=\"Males\",\n",
    "        ax=0,\n",
    "        ay=-2,\n",
    "    \n",
    "     font=dict(\n",
    "                family='Courier New, monospace',\n",
    "                size=14,\n",
    "                color= colors[1]\n",
    "            ),\n",
    "    ),\n",
    "                  \n",
    "                  dict(\n",
    "        x=yrs[-1] + 3,\n",
    "        y=perc_f[-1] + 2,\n",
    "        xref='x',\n",
    "        yref='y',\n",
    "        text=\"Females\",\n",
    "        ax=0,\n",
    "        ay=-2,\n",
    "                       font=dict(\n",
    "                family='Courier New, monospace',\n",
    "                size=14,\n",
    "                color= colors[0]\n",
    "            ),\n",
    "    ),\n",
    "                        dict(\n",
    "        x=yrs[-1] + 3,\n",
    "        y=perc_u[-1] + 2,\n",
    "        xref='x',\n",
    "        yref='y',\n",
    "        text=\"Unknown\",\n",
    "        ax=0,\n",
    "        ay=-2,\n",
    "                             font=dict(\n",
    "                family='Courier New, monospace',\n",
    "                size=14,\n",
    "                color= colors[2]\n",
    "            ),\n",
    "    )]\n",
    "\n",
    "tags = []\n",
    "cols = [fc,mc, uc]\n",
    "for f,yr in enumerate([-1, -4 , -7, -10, -15, -20, - 25]):\n",
    "    for i,m in enumerate([perc_f, perc_m, perc_u]):\n",
    "        tags.append( dict(\n",
    "            x=yrs[yr] ,\n",
    "            y=m[yr] + 1,\n",
    "            xref='x',\n",
    "            yref='y',\n",
    "            text=\"{0:.1f}\".format(m[yr]),\n",
    "            ax=0,\n",
    "            ay=-40,\n",
    "              font=dict(\n",
    "                family='Courier New, monospace',\n",
    "                size=14,\n",
    "                color= colors[i]\n",
    "            ),\n",
    "             arrowhead=2,\n",
    "            arrowsize=1,\n",
    "            arrowwidth=2,\n",
    "            opacity = 0.7,\n",
    "            align= \"center\", \n",
    "            arrowcolor= colors[i],\n",
    "             showarrow = True,\n",
    "#             arrowhead = 2\n",
    "        \n",
    "        ))\n",
    "\n",
    "# Add legend, place it at the top right corner of the plot\n",
    "py_fig1['layout'].update(\n",
    "#     showlegend=True,\n",
    "#     legend=Legend(\n",
    "#         x=1.05,\n",
    "#         y=1\n",
    "#     ),\n",
    "    hovermode = \"compare\",\n",
    "    annotations = tags + legends\n",
    ")\n",
    "\n",
    "\n",
    "# Send updated figure object to Plotly, show result in notebook\n",
    "py.iplot(py_fig1, filename='BestGenderByYear.pdf')"
   ]
  },
  {
   "cell_type": "code",
   "execution_count": 22,
   "metadata": {},
   "outputs": [
    {
     "data": {
      "application/vnd.plotly.v1+json": {
       "data": [
        {
         "line": {},
         "marker": {
          "line": {}
         },
         "mode": "lines+markers",
         "name": "Male",
         "type": "scatter",
         "x": [
          1978,
          1979,
          1980,
          1981,
          1982,
          1983,
          1984,
          1985,
          1986,
          1987,
          1988,
          1989,
          1990,
          1991,
          1992,
          1993,
          1994,
          1995,
          1996,
          1997,
          1998,
          1999,
          2000,
          2001,
          2002,
          2003,
          2004,
          2005,
          2006,
          2007,
          2008,
          2009,
          2010,
          2011,
          2012,
          2013,
          2014
         ],
         "xaxis": "x1",
         "y": [
          76.315769390587,
          73.91303888738888,
          79.37219375012585,
          74.545440991738,
          70.54794278945403,
          73.21428135629277,
          81.36645457351214,
          80.71427994898,
          75.85227057237867,
          67.6328469742586,
          76.21359038316528,
          70.92198330063889,
          75.81818043966945,
          72.59615210105405,
          69.92385698066171,
          71.15044121857626,
          76.56641508062137,
          76.6187022799028,
          74.4257262721941,
          71.72995679704702,
          72.9566087491765,
          70.6720963203239,
          70.88235224625144,
          72.6562490539551,
          72.89099456975362,
          71.66276290661388,
          69.81333296099555,
          68.33452417201913,
          69.83723260510055,
          72.11703917316673,
          69.15998792175722,
          71.46351377307984,
          69.52440528934791,
          71.7008095678856,
          68.98927998089862,
          70.22418670595457,
          69.20987637232129
         ],
         "yaxis": "y1"
        },
        {
         "line": {},
         "marker": {
          "line": {}
         },
         "mode": "lines+markers",
         "name": "Female",
         "type": "scatter",
         "x": [
          1978,
          1979,
          1980,
          1981,
          1982,
          1983,
          1984,
          1985,
          1986,
          1987,
          1988,
          1989,
          1990,
          1991,
          1992,
          1993,
          1994,
          1995,
          1996,
          1997,
          1998,
          1999,
          2000,
          2001,
          2002,
          2003,
          2004,
          2005,
          2006,
          2007,
          2008,
          2009,
          2010,
          2011,
          2012,
          2013,
          2014
         ],
         "xaxis": "x1",
         "y": [
          23.684204293630447,
          19.875775162995332,
          13.004483721772031,
          25.45454082644712,
          20.890410243479103,
          21.4285701530613,
          16.77018529377731,
          17.857141581632742,
          21.59090847753101,
          28.502414082008983,
          23.05825186751816,
          26.595743737739586,
          20.18181781487604,
          26.923076275887592,
          26.015228096253452,
          27.96460127496281,
          21.929824286593682,
          23.021581905698497,
          23.889739297247484,
          26.16033718480539,
          24.621594100690274,
          26.2729118885354,
          27.549019337754714,
          26.302082990858295,
          25.592416819029225,
          27.400468170175895,
          28.106666516764445,
          29.020728884769632,
          28.4333670985078,
          27.194492098712036,
          28.04986634594875,
          27.59885842805194,
          27.534417936375412,
          25.5836111215645,
          27.871362833570583,
          26.681401873440475,
          27.753086351226948
         ],
         "yaxis": "y1"
        },
        {
         "line": {},
         "marker": {
          "line": {}
         },
         "mode": "lines+markers",
         "name": "Unknown",
         "type": "scatter",
         "x": [
          1978,
          1979,
          1980,
          1981,
          1982,
          1983,
          1984,
          1985,
          1986,
          1987,
          1988,
          1989,
          1990,
          1991,
          1992,
          1993,
          1994,
          1995,
          1996,
          1997,
          1998,
          1999,
          2000,
          2001,
          2002,
          2003,
          2004,
          2005,
          2006,
          2007,
          2008,
          2009,
          2010,
          2011,
          2012,
          2013,
          2014
         ],
         "xaxis": "x1",
         "y": [
          0,
          6.211179738436041,
          7.623318043797397,
          0,
          8.561643542409469,
          5.357142538265325,
          1.8633539215308124,
          1.4285713265306195,
          2.556818109181304,
          3.8647341128147774,
          0.7281553221321524,
          2.4822694155223615,
          3.9999999272727287,
          0.48076921921227844,
          4.06091365404932,
          0.8849557365494561,
          1.5037593796521382,
          0.359712217276539,
          1.6845328991648867,
          2.1097046116778535,
          2.421796141051502,
          3.0549897544808604,
          1.5686274356016918,
          1.0416666531032988,
          1.51658766334988,
          0.936768142570116,
          2.0799999889066667,
          2.6447462284149665,
          1.7293997877446603,
          0.6884681543977731,
          2.790145435470034,
          0.937627391204128,
          2.941176461385555,
          2.7155788341325446,
          3.1393568026824012,
          3.0944111048487177,
          3.03703702953818
         ],
         "yaxis": "y1"
        }
       ],
       "layout": {
        "annotations": [
         {
          "align": "center",
          "arrowcolor": "#ff7f0e",
          "arrowhead": 2,
          "arrowsize": 1,
          "arrowwidth": 2,
          "ax": 0,
          "ay": -40,
          "font": {
           "color": "#ff7f0e",
           "family": "Courier New, monospace",
           "size": 14
          },
          "opacity": 0.7,
          "showarrow": true,
          "text": "27.8",
          "x": 2014,
          "xref": "x",
          "y": 28.753086351226948,
          "yref": "y"
         },
         {
          "align": "center",
          "arrowcolor": "#1f77b4",
          "arrowhead": 2,
          "arrowsize": 1,
          "arrowwidth": 2,
          "ax": 0,
          "ay": -40,
          "font": {
           "color": "#1f77b4",
           "family": "Courier New, monospace",
           "size": 14
          },
          "opacity": 0.7,
          "showarrow": true,
          "text": "69.2",
          "x": 2014,
          "xref": "x",
          "y": 70.20987637232129,
          "yref": "y"
         },
         {
          "align": "center",
          "arrowcolor": "#2ca02c",
          "arrowhead": 2,
          "arrowsize": 1,
          "arrowwidth": 2,
          "ax": 0,
          "ay": -40,
          "font": {
           "color": "#2ca02c",
           "family": "Courier New, monospace",
           "size": 14
          },
          "opacity": 0.7,
          "showarrow": true,
          "text": "3.0",
          "x": 2014,
          "xref": "x",
          "y": 4.03703702953818,
          "yref": "y"
         },
         {
          "align": "center",
          "arrowcolor": "#ff7f0e",
          "arrowhead": 2,
          "arrowsize": 1,
          "arrowwidth": 2,
          "ax": 0,
          "ay": -40,
          "font": {
           "color": "#ff7f0e",
           "family": "Courier New, monospace",
           "size": 14
          },
          "opacity": 0.7,
          "showarrow": true,
          "text": "25.6",
          "x": 2011,
          "xref": "x",
          "y": 26.5836111215645,
          "yref": "y"
         },
         {
          "align": "center",
          "arrowcolor": "#1f77b4",
          "arrowhead": 2,
          "arrowsize": 1,
          "arrowwidth": 2,
          "ax": 0,
          "ay": -40,
          "font": {
           "color": "#1f77b4",
           "family": "Courier New, monospace",
           "size": 14
          },
          "opacity": 0.7,
          "showarrow": true,
          "text": "71.7",
          "x": 2011,
          "xref": "x",
          "y": 72.7008095678856,
          "yref": "y"
         },
         {
          "align": "center",
          "arrowcolor": "#2ca02c",
          "arrowhead": 2,
          "arrowsize": 1,
          "arrowwidth": 2,
          "ax": 0,
          "ay": -40,
          "font": {
           "color": "#2ca02c",
           "family": "Courier New, monospace",
           "size": 14
          },
          "opacity": 0.7,
          "showarrow": true,
          "text": "2.7",
          "x": 2011,
          "xref": "x",
          "y": 3.7155788341325446,
          "yref": "y"
         },
         {
          "align": "center",
          "arrowcolor": "#ff7f0e",
          "arrowhead": 2,
          "arrowsize": 1,
          "arrowwidth": 2,
          "ax": 0,
          "ay": -40,
          "font": {
           "color": "#ff7f0e",
           "family": "Courier New, monospace",
           "size": 14
          },
          "opacity": 0.7,
          "showarrow": true,
          "text": "28.0",
          "x": 2008,
          "xref": "x",
          "y": 29.04986634594875,
          "yref": "y"
         },
         {
          "align": "center",
          "arrowcolor": "#1f77b4",
          "arrowhead": 2,
          "arrowsize": 1,
          "arrowwidth": 2,
          "ax": 0,
          "ay": -40,
          "font": {
           "color": "#1f77b4",
           "family": "Courier New, monospace",
           "size": 14
          },
          "opacity": 0.7,
          "showarrow": true,
          "text": "69.2",
          "x": 2008,
          "xref": "x",
          "y": 70.15998792175722,
          "yref": "y"
         },
         {
          "align": "center",
          "arrowcolor": "#2ca02c",
          "arrowhead": 2,
          "arrowsize": 1,
          "arrowwidth": 2,
          "ax": 0,
          "ay": -40,
          "font": {
           "color": "#2ca02c",
           "family": "Courier New, monospace",
           "size": 14
          },
          "opacity": 0.7,
          "showarrow": true,
          "text": "2.8",
          "x": 2008,
          "xref": "x",
          "y": 3.790145435470034,
          "yref": "y"
         },
         {
          "align": "center",
          "arrowcolor": "#ff7f0e",
          "arrowhead": 2,
          "arrowsize": 1,
          "arrowwidth": 2,
          "ax": 0,
          "ay": -40,
          "font": {
           "color": "#ff7f0e",
           "family": "Courier New, monospace",
           "size": 14
          },
          "opacity": 0.7,
          "showarrow": true,
          "text": "29.0",
          "x": 2005,
          "xref": "x",
          "y": 30.020728884769632,
          "yref": "y"
         },
         {
          "align": "center",
          "arrowcolor": "#1f77b4",
          "arrowhead": 2,
          "arrowsize": 1,
          "arrowwidth": 2,
          "ax": 0,
          "ay": -40,
          "font": {
           "color": "#1f77b4",
           "family": "Courier New, monospace",
           "size": 14
          },
          "opacity": 0.7,
          "showarrow": true,
          "text": "68.3",
          "x": 2005,
          "xref": "x",
          "y": 69.33452417201913,
          "yref": "y"
         },
         {
          "align": "center",
          "arrowcolor": "#2ca02c",
          "arrowhead": 2,
          "arrowsize": 1,
          "arrowwidth": 2,
          "ax": 0,
          "ay": -40,
          "font": {
           "color": "#2ca02c",
           "family": "Courier New, monospace",
           "size": 14
          },
          "opacity": 0.7,
          "showarrow": true,
          "text": "2.6",
          "x": 2005,
          "xref": "x",
          "y": 3.6447462284149665,
          "yref": "y"
         },
         {
          "align": "center",
          "arrowcolor": "#ff7f0e",
          "arrowhead": 2,
          "arrowsize": 1,
          "arrowwidth": 2,
          "ax": 0,
          "ay": -40,
          "font": {
           "color": "#ff7f0e",
           "family": "Courier New, monospace",
           "size": 14
          },
          "opacity": 0.7,
          "showarrow": true,
          "text": "27.5",
          "x": 2000,
          "xref": "x",
          "y": 28.549019337754714,
          "yref": "y"
         },
         {
          "align": "center",
          "arrowcolor": "#1f77b4",
          "arrowhead": 2,
          "arrowsize": 1,
          "arrowwidth": 2,
          "ax": 0,
          "ay": -40,
          "font": {
           "color": "#1f77b4",
           "family": "Courier New, monospace",
           "size": 14
          },
          "opacity": 0.7,
          "showarrow": true,
          "text": "70.9",
          "x": 2000,
          "xref": "x",
          "y": 71.88235224625144,
          "yref": "y"
         },
         {
          "align": "center",
          "arrowcolor": "#2ca02c",
          "arrowhead": 2,
          "arrowsize": 1,
          "arrowwidth": 2,
          "ax": 0,
          "ay": -40,
          "font": {
           "color": "#2ca02c",
           "family": "Courier New, monospace",
           "size": 14
          },
          "opacity": 0.7,
          "showarrow": true,
          "text": "1.6",
          "x": 2000,
          "xref": "x",
          "y": 2.568627435601692,
          "yref": "y"
         },
         {
          "align": "center",
          "arrowcolor": "#ff7f0e",
          "arrowhead": 2,
          "arrowsize": 1,
          "arrowwidth": 2,
          "ax": 0,
          "ay": -40,
          "font": {
           "color": "#ff7f0e",
           "family": "Courier New, monospace",
           "size": 14
          },
          "opacity": 0.7,
          "showarrow": true,
          "text": "23.0",
          "x": 1995,
          "xref": "x",
          "y": 24.021581905698497,
          "yref": "y"
         },
         {
          "align": "center",
          "arrowcolor": "#1f77b4",
          "arrowhead": 2,
          "arrowsize": 1,
          "arrowwidth": 2,
          "ax": 0,
          "ay": -40,
          "font": {
           "color": "#1f77b4",
           "family": "Courier New, monospace",
           "size": 14
          },
          "opacity": 0.7,
          "showarrow": true,
          "text": "76.6",
          "x": 1995,
          "xref": "x",
          "y": 77.6187022799028,
          "yref": "y"
         },
         {
          "align": "center",
          "arrowcolor": "#2ca02c",
          "arrowhead": 2,
          "arrowsize": 1,
          "arrowwidth": 2,
          "ax": 0,
          "ay": -40,
          "font": {
           "color": "#2ca02c",
           "family": "Courier New, monospace",
           "size": 14
          },
          "opacity": 0.7,
          "showarrow": true,
          "text": "0.4",
          "x": 1995,
          "xref": "x",
          "y": 1.359712217276539,
          "yref": "y"
         },
         {
          "align": "center",
          "arrowcolor": "#ff7f0e",
          "arrowhead": 2,
          "arrowsize": 1,
          "arrowwidth": 2,
          "ax": 0,
          "ay": -40,
          "font": {
           "color": "#ff7f0e",
           "family": "Courier New, monospace",
           "size": 14
          },
          "opacity": 0.7,
          "showarrow": true,
          "text": "20.2",
          "x": 1990,
          "xref": "x",
          "y": 21.18181781487604,
          "yref": "y"
         },
         {
          "align": "center",
          "arrowcolor": "#1f77b4",
          "arrowhead": 2,
          "arrowsize": 1,
          "arrowwidth": 2,
          "ax": 0,
          "ay": -40,
          "font": {
           "color": "#1f77b4",
           "family": "Courier New, monospace",
           "size": 14
          },
          "opacity": 0.7,
          "showarrow": true,
          "text": "75.8",
          "x": 1990,
          "xref": "x",
          "y": 76.81818043966945,
          "yref": "y"
         },
         {
          "align": "center",
          "arrowcolor": "#2ca02c",
          "arrowhead": 2,
          "arrowsize": 1,
          "arrowwidth": 2,
          "ax": 0,
          "ay": -40,
          "font": {
           "color": "#2ca02c",
           "family": "Courier New, monospace",
           "size": 14
          },
          "opacity": 0.7,
          "showarrow": true,
          "text": "4.0",
          "x": 1990,
          "xref": "x",
          "y": 4.999999927272729,
          "yref": "y"
         },
         {
          "ax": 0,
          "ay": -2,
          "font": {
           "color": "#1f77b4",
           "family": "Courier New, monospace",
           "size": 14
          },
          "text": "Males",
          "x": 2017,
          "xref": "x",
          "y": 71.20987637232129,
          "yref": "y"
         },
         {
          "ax": 0,
          "ay": -2,
          "font": {
           "color": "#ff7f0e",
           "family": "Courier New, monospace",
           "size": 14
          },
          "text": "Females",
          "x": 2017,
          "xref": "x",
          "y": 29.753086351226948,
          "yref": "y"
         },
         {
          "ax": 0,
          "ay": -2,
          "font": {
           "color": "#2ca02c",
           "family": "Courier New, monospace",
           "size": 14
          },
          "text": "Unknown",
          "x": 2017,
          "xref": "x",
          "y": 5.03703702953818,
          "yref": "y"
         }
        ],
        "height": 648,
        "hovermode": "compare",
        "margin": {
         "b": 81,
         "l": 108,
         "pad": 0,
         "r": 86,
         "t": 77
        },
        "showlegend": false,
        "title": "Authorship by Year",
        "titlefont": {},
        "width": 864,
        "xaxis1": {
         "anchor": "y1",
         "domain": [
          0,
          1
         ],
         "range": [
          1978,
          2017
         ],
         "side": "bottom",
         "tickfont": {},
         "tickmode": false,
         "type": "linear"
        },
        "yaxis1": {
         "anchor": "x1",
         "domain": [
          0,
          1
         ],
         "range": [
          0,
          90
         ],
         "side": "left",
         "tickfont": {},
         "title": "Percentage",
         "titlefont": {},
         "type": "linear"
        }
       }
      },
      "text/html": [
       "<div id=\"c443f8b9-04e0-4280-bb19-73bd6da9b33b\" style=\"height: 648px; width: 864px;\" class=\"plotly-graph-div\"></div><script type=\"text/javascript\">require([\"plotly\"], function(Plotly) { window.PLOTLYENV=window.PLOTLYENV || {};window.PLOTLYENV.BASE_URL=\"https://plot.ly\";Plotly.newPlot(\"c443f8b9-04e0-4280-bb19-73bd6da9b33b\", [{\"type\": \"scatter\", \"mode\": \"lines+markers\", \"name\": \"Male\", \"x\": [1978.0, 1979.0, 1980.0, 1981.0, 1982.0, 1983.0, 1984.0, 1985.0, 1986.0, 1987.0, 1988.0, 1989.0, 1990.0, 1991.0, 1992.0, 1993.0, 1994.0, 1995.0, 1996.0, 1997.0, 1998.0, 1999.0, 2000.0, 2001.0, 2002.0, 2003.0, 2004.0, 2005.0, 2006.0, 2007.0, 2008.0, 2009.0, 2010.0, 2011.0, 2012.0, 2013.0, 2014.0], \"y\": [76.315769390587, 73.91303888738888, 79.37219375012585, 74.545440991738, 70.54794278945403, 73.21428135629277, 81.36645457351214, 80.71427994898, 75.85227057237867, 67.6328469742586, 76.21359038316528, 70.92198330063889, 75.81818043966945, 72.59615210105405, 69.92385698066171, 71.15044121857626, 76.56641508062137, 76.6187022799028, 74.4257262721941, 71.72995679704702, 72.9566087491765, 70.6720963203239, 70.88235224625144, 72.6562490539551, 72.89099456975362, 71.66276290661388, 69.81333296099555, 68.33452417201913, 69.83723260510055, 72.11703917316673, 69.15998792175722, 71.46351377307984, 69.52440528934791, 71.7008095678856, 68.98927998089862, 70.22418670595457, 69.20987637232129], \"xaxis\": \"x1\", \"yaxis\": \"y1\", \"line\": {}, \"marker\": {\"line\": {}}}, {\"type\": \"scatter\", \"mode\": \"lines+markers\", \"name\": \"Female\", \"x\": [1978.0, 1979.0, 1980.0, 1981.0, 1982.0, 1983.0, 1984.0, 1985.0, 1986.0, 1987.0, 1988.0, 1989.0, 1990.0, 1991.0, 1992.0, 1993.0, 1994.0, 1995.0, 1996.0, 1997.0, 1998.0, 1999.0, 2000.0, 2001.0, 2002.0, 2003.0, 2004.0, 2005.0, 2006.0, 2007.0, 2008.0, 2009.0, 2010.0, 2011.0, 2012.0, 2013.0, 2014.0], \"y\": [23.684204293630447, 19.875775162995332, 13.004483721772031, 25.45454082644712, 20.890410243479103, 21.4285701530613, 16.77018529377731, 17.857141581632742, 21.59090847753101, 28.502414082008983, 23.05825186751816, 26.595743737739586, 20.18181781487604, 26.923076275887592, 26.015228096253452, 27.96460127496281, 21.929824286593682, 23.021581905698497, 23.889739297247484, 26.16033718480539, 24.621594100690274, 26.2729118885354, 27.549019337754714, 26.302082990858295, 25.592416819029225, 27.400468170175895, 28.106666516764445, 29.020728884769632, 28.4333670985078, 27.194492098712036, 28.04986634594875, 27.59885842805194, 27.534417936375412, 25.5836111215645, 27.871362833570583, 26.681401873440475, 27.753086351226948], \"xaxis\": \"x1\", \"yaxis\": \"y1\", \"line\": {}, \"marker\": {\"line\": {}}}, {\"type\": \"scatter\", \"mode\": \"lines+markers\", \"name\": \"Unknown\", \"x\": [1978.0, 1979.0, 1980.0, 1981.0, 1982.0, 1983.0, 1984.0, 1985.0, 1986.0, 1987.0, 1988.0, 1989.0, 1990.0, 1991.0, 1992.0, 1993.0, 1994.0, 1995.0, 1996.0, 1997.0, 1998.0, 1999.0, 2000.0, 2001.0, 2002.0, 2003.0, 2004.0, 2005.0, 2006.0, 2007.0, 2008.0, 2009.0, 2010.0, 2011.0, 2012.0, 2013.0, 2014.0], \"y\": [0.0, 6.211179738436041, 7.623318043797397, 0.0, 8.561643542409469, 5.357142538265325, 1.8633539215308124, 1.4285713265306195, 2.556818109181304, 3.8647341128147774, 0.7281553221321524, 2.4822694155223615, 3.9999999272727287, 0.48076921921227844, 4.06091365404932, 0.8849557365494561, 1.5037593796521382, 0.359712217276539, 1.6845328991648867, 2.1097046116778535, 2.421796141051502, 3.0549897544808604, 1.5686274356016918, 1.0416666531032988, 1.51658766334988, 0.936768142570116, 2.0799999889066667, 2.6447462284149665, 1.7293997877446603, 0.6884681543977731, 2.790145435470034, 0.937627391204128, 2.941176461385555, 2.7155788341325446, 3.1393568026824012, 3.0944111048487177, 3.03703702953818], \"xaxis\": \"x1\", \"yaxis\": \"y1\", \"line\": {}, \"marker\": {\"line\": {}}}], {\"width\": 864, \"height\": 648, \"hovermode\": \"compare\", \"margin\": {\"l\": 108, \"r\": 86, \"t\": 77, \"b\": 81, \"pad\": 0}, \"xaxis1\": {\"anchor\": \"y1\", \"type\": \"linear\", \"range\": [1978.0, 2017.0], \"domain\": [0.0, 1.0], \"side\": \"bottom\", \"tickfont\": {}, \"tickmode\": false}, \"yaxis1\": {\"anchor\": \"x1\", \"type\": \"linear\", \"range\": [0.0, 90.0], \"domain\": [0.0, 1.0], \"side\": \"left\", \"tickfont\": {}, \"title\": \"Percentage\", \"titlefont\": {}}, \"title\": \"Authorship by Year\", \"titlefont\": {}, \"showlegend\": false, \"annotations\": [{\"x\": 2014, \"y\": 28.753086351226948, \"xref\": \"x\", \"yref\": \"y\", \"text\": \"27.8\", \"ax\": 0, \"ay\": -40, \"font\": {\"family\": \"Courier New, monospace\", \"size\": 14, \"color\": \"#ff7f0e\"}, \"arrowhead\": 2, \"arrowsize\": 1, \"arrowwidth\": 2, \"opacity\": 0.7, \"align\": \"center\", \"arrowcolor\": \"#ff7f0e\", \"showarrow\": true}, {\"x\": 2014, \"y\": 70.20987637232129, \"xref\": \"x\", \"yref\": \"y\", \"text\": \"69.2\", \"ax\": 0, \"ay\": -40, \"font\": {\"family\": \"Courier New, monospace\", \"size\": 14, \"color\": \"#1f77b4\"}, \"arrowhead\": 2, \"arrowsize\": 1, \"arrowwidth\": 2, \"opacity\": 0.7, \"align\": \"center\", \"arrowcolor\": \"#1f77b4\", \"showarrow\": true}, {\"x\": 2014, \"y\": 4.03703702953818, \"xref\": \"x\", \"yref\": \"y\", \"text\": \"3.0\", \"ax\": 0, \"ay\": -40, \"font\": {\"family\": \"Courier New, monospace\", \"size\": 14, \"color\": \"#2ca02c\"}, \"arrowhead\": 2, \"arrowsize\": 1, \"arrowwidth\": 2, \"opacity\": 0.7, \"align\": \"center\", \"arrowcolor\": \"#2ca02c\", \"showarrow\": true}, {\"x\": 2011, \"y\": 26.5836111215645, \"xref\": \"x\", \"yref\": \"y\", \"text\": \"25.6\", \"ax\": 0, \"ay\": -40, \"font\": {\"family\": \"Courier New, monospace\", \"size\": 14, \"color\": \"#ff7f0e\"}, \"arrowhead\": 2, \"arrowsize\": 1, \"arrowwidth\": 2, \"opacity\": 0.7, \"align\": \"center\", \"arrowcolor\": \"#ff7f0e\", \"showarrow\": true}, {\"x\": 2011, \"y\": 72.7008095678856, \"xref\": \"x\", \"yref\": \"y\", \"text\": \"71.7\", \"ax\": 0, \"ay\": -40, \"font\": {\"family\": \"Courier New, monospace\", \"size\": 14, \"color\": \"#1f77b4\"}, \"arrowhead\": 2, \"arrowsize\": 1, \"arrowwidth\": 2, \"opacity\": 0.7, \"align\": \"center\", \"arrowcolor\": \"#1f77b4\", \"showarrow\": true}, {\"x\": 2011, \"y\": 3.7155788341325446, \"xref\": \"x\", \"yref\": \"y\", \"text\": \"2.7\", \"ax\": 0, \"ay\": -40, \"font\": {\"family\": \"Courier New, monospace\", \"size\": 14, \"color\": \"#2ca02c\"}, \"arrowhead\": 2, \"arrowsize\": 1, \"arrowwidth\": 2, \"opacity\": 0.7, \"align\": \"center\", \"arrowcolor\": \"#2ca02c\", \"showarrow\": true}, {\"x\": 2008, \"y\": 29.04986634594875, \"xref\": \"x\", \"yref\": \"y\", \"text\": \"28.0\", \"ax\": 0, \"ay\": -40, \"font\": {\"family\": \"Courier New, monospace\", \"size\": 14, \"color\": \"#ff7f0e\"}, \"arrowhead\": 2, \"arrowsize\": 1, \"arrowwidth\": 2, \"opacity\": 0.7, \"align\": \"center\", \"arrowcolor\": \"#ff7f0e\", \"showarrow\": true}, {\"x\": 2008, \"y\": 70.15998792175722, \"xref\": \"x\", \"yref\": \"y\", \"text\": \"69.2\", \"ax\": 0, \"ay\": -40, \"font\": {\"family\": \"Courier New, monospace\", \"size\": 14, \"color\": \"#1f77b4\"}, \"arrowhead\": 2, \"arrowsize\": 1, \"arrowwidth\": 2, \"opacity\": 0.7, \"align\": \"center\", \"arrowcolor\": \"#1f77b4\", \"showarrow\": true}, {\"x\": 2008, \"y\": 3.790145435470034, \"xref\": \"x\", \"yref\": \"y\", \"text\": \"2.8\", \"ax\": 0, \"ay\": -40, \"font\": {\"family\": \"Courier New, monospace\", \"size\": 14, \"color\": \"#2ca02c\"}, \"arrowhead\": 2, \"arrowsize\": 1, \"arrowwidth\": 2, \"opacity\": 0.7, \"align\": \"center\", \"arrowcolor\": \"#2ca02c\", \"showarrow\": true}, {\"x\": 2005, \"y\": 30.020728884769632, \"xref\": \"x\", \"yref\": \"y\", \"text\": \"29.0\", \"ax\": 0, \"ay\": -40, \"font\": {\"family\": \"Courier New, monospace\", \"size\": 14, \"color\": \"#ff7f0e\"}, \"arrowhead\": 2, \"arrowsize\": 1, \"arrowwidth\": 2, \"opacity\": 0.7, \"align\": \"center\", \"arrowcolor\": \"#ff7f0e\", \"showarrow\": true}, {\"x\": 2005, \"y\": 69.33452417201913, \"xref\": \"x\", \"yref\": \"y\", \"text\": \"68.3\", \"ax\": 0, \"ay\": -40, \"font\": {\"family\": \"Courier New, monospace\", \"size\": 14, \"color\": \"#1f77b4\"}, \"arrowhead\": 2, \"arrowsize\": 1, \"arrowwidth\": 2, \"opacity\": 0.7, \"align\": \"center\", \"arrowcolor\": \"#1f77b4\", \"showarrow\": true}, {\"x\": 2005, \"y\": 3.6447462284149665, \"xref\": \"x\", \"yref\": \"y\", \"text\": \"2.6\", \"ax\": 0, \"ay\": -40, \"font\": {\"family\": \"Courier New, monospace\", \"size\": 14, \"color\": \"#2ca02c\"}, \"arrowhead\": 2, \"arrowsize\": 1, \"arrowwidth\": 2, \"opacity\": 0.7, \"align\": \"center\", \"arrowcolor\": \"#2ca02c\", \"showarrow\": true}, {\"x\": 2000, \"y\": 28.549019337754714, \"xref\": \"x\", \"yref\": \"y\", \"text\": \"27.5\", \"ax\": 0, \"ay\": -40, \"font\": {\"family\": \"Courier New, monospace\", \"size\": 14, \"color\": \"#ff7f0e\"}, \"arrowhead\": 2, \"arrowsize\": 1, \"arrowwidth\": 2, \"opacity\": 0.7, \"align\": \"center\", \"arrowcolor\": \"#ff7f0e\", \"showarrow\": true}, {\"x\": 2000, \"y\": 71.88235224625144, \"xref\": \"x\", \"yref\": \"y\", \"text\": \"70.9\", \"ax\": 0, \"ay\": -40, \"font\": {\"family\": \"Courier New, monospace\", \"size\": 14, \"color\": \"#1f77b4\"}, \"arrowhead\": 2, \"arrowsize\": 1, \"arrowwidth\": 2, \"opacity\": 0.7, \"align\": \"center\", \"arrowcolor\": \"#1f77b4\", \"showarrow\": true}, {\"x\": 2000, \"y\": 2.568627435601692, \"xref\": \"x\", \"yref\": \"y\", \"text\": \"1.6\", \"ax\": 0, \"ay\": -40, \"font\": {\"family\": \"Courier New, monospace\", \"size\": 14, \"color\": \"#2ca02c\"}, \"arrowhead\": 2, \"arrowsize\": 1, \"arrowwidth\": 2, \"opacity\": 0.7, \"align\": \"center\", \"arrowcolor\": \"#2ca02c\", \"showarrow\": true}, {\"x\": 1995, \"y\": 24.021581905698497, \"xref\": \"x\", \"yref\": \"y\", \"text\": \"23.0\", \"ax\": 0, \"ay\": -40, \"font\": {\"family\": \"Courier New, monospace\", \"size\": 14, \"color\": \"#ff7f0e\"}, \"arrowhead\": 2, \"arrowsize\": 1, \"arrowwidth\": 2, \"opacity\": 0.7, \"align\": \"center\", \"arrowcolor\": \"#ff7f0e\", \"showarrow\": true}, {\"x\": 1995, \"y\": 77.6187022799028, \"xref\": \"x\", \"yref\": \"y\", \"text\": \"76.6\", \"ax\": 0, \"ay\": -40, \"font\": {\"family\": \"Courier New, monospace\", \"size\": 14, \"color\": \"#1f77b4\"}, \"arrowhead\": 2, \"arrowsize\": 1, \"arrowwidth\": 2, \"opacity\": 0.7, \"align\": \"center\", \"arrowcolor\": \"#1f77b4\", \"showarrow\": true}, {\"x\": 1995, \"y\": 1.359712217276539, \"xref\": \"x\", \"yref\": \"y\", \"text\": \"0.4\", \"ax\": 0, \"ay\": -40, \"font\": {\"family\": \"Courier New, monospace\", \"size\": 14, \"color\": \"#2ca02c\"}, \"arrowhead\": 2, \"arrowsize\": 1, \"arrowwidth\": 2, \"opacity\": 0.7, \"align\": \"center\", \"arrowcolor\": \"#2ca02c\", \"showarrow\": true}, {\"x\": 1990, \"y\": 21.18181781487604, \"xref\": \"x\", \"yref\": \"y\", \"text\": \"20.2\", \"ax\": 0, \"ay\": -40, \"font\": {\"family\": \"Courier New, monospace\", \"size\": 14, \"color\": \"#ff7f0e\"}, \"arrowhead\": 2, \"arrowsize\": 1, \"arrowwidth\": 2, \"opacity\": 0.7, \"align\": \"center\", \"arrowcolor\": \"#ff7f0e\", \"showarrow\": true}, {\"x\": 1990, \"y\": 76.81818043966945, \"xref\": \"x\", \"yref\": \"y\", \"text\": \"75.8\", \"ax\": 0, \"ay\": -40, \"font\": {\"family\": \"Courier New, monospace\", \"size\": 14, \"color\": \"#1f77b4\"}, \"arrowhead\": 2, \"arrowsize\": 1, \"arrowwidth\": 2, \"opacity\": 0.7, \"align\": \"center\", \"arrowcolor\": \"#1f77b4\", \"showarrow\": true}, {\"x\": 1990, \"y\": 4.999999927272729, \"xref\": \"x\", \"yref\": \"y\", \"text\": \"4.0\", \"ax\": 0, \"ay\": -40, \"font\": {\"family\": \"Courier New, monospace\", \"size\": 14, \"color\": \"#2ca02c\"}, \"arrowhead\": 2, \"arrowsize\": 1, \"arrowwidth\": 2, \"opacity\": 0.7, \"align\": \"center\", \"arrowcolor\": \"#2ca02c\", \"showarrow\": true}, {\"x\": 2017, \"y\": 71.20987637232129, \"xref\": \"x\", \"yref\": \"y\", \"text\": \"Males\", \"ax\": 0, \"ay\": -2, \"font\": {\"family\": \"Courier New, monospace\", \"size\": 14, \"color\": \"#1f77b4\"}}, {\"x\": 2017, \"y\": 29.753086351226948, \"xref\": \"x\", \"yref\": \"y\", \"text\": \"Females\", \"ax\": 0, \"ay\": -2, \"font\": {\"family\": \"Courier New, monospace\", \"size\": 14, \"color\": \"#ff7f0e\"}}, {\"x\": 2017, \"y\": 5.03703702953818, \"xref\": \"x\", \"yref\": \"y\", \"text\": \"Unknown\", \"ax\": 0, \"ay\": -2, \"font\": {\"family\": \"Courier New, monospace\", \"size\": 14, \"color\": \"#2ca02c\"}}]}, {\"showLink\": true, \"linkText\": \"Export to plot.ly\"})});</script>"
      ],
      "text/vnd.plotly.v1+html": [
       "<div id=\"c443f8b9-04e0-4280-bb19-73bd6da9b33b\" style=\"height: 648px; width: 864px;\" class=\"plotly-graph-div\"></div><script type=\"text/javascript\">require([\"plotly\"], function(Plotly) { window.PLOTLYENV=window.PLOTLYENV || {};window.PLOTLYENV.BASE_URL=\"https://plot.ly\";Plotly.newPlot(\"c443f8b9-04e0-4280-bb19-73bd6da9b33b\", [{\"type\": \"scatter\", \"mode\": \"lines+markers\", \"name\": \"Male\", \"x\": [1978.0, 1979.0, 1980.0, 1981.0, 1982.0, 1983.0, 1984.0, 1985.0, 1986.0, 1987.0, 1988.0, 1989.0, 1990.0, 1991.0, 1992.0, 1993.0, 1994.0, 1995.0, 1996.0, 1997.0, 1998.0, 1999.0, 2000.0, 2001.0, 2002.0, 2003.0, 2004.0, 2005.0, 2006.0, 2007.0, 2008.0, 2009.0, 2010.0, 2011.0, 2012.0, 2013.0, 2014.0], \"y\": [76.315769390587, 73.91303888738888, 79.37219375012585, 74.545440991738, 70.54794278945403, 73.21428135629277, 81.36645457351214, 80.71427994898, 75.85227057237867, 67.6328469742586, 76.21359038316528, 70.92198330063889, 75.81818043966945, 72.59615210105405, 69.92385698066171, 71.15044121857626, 76.56641508062137, 76.6187022799028, 74.4257262721941, 71.72995679704702, 72.9566087491765, 70.6720963203239, 70.88235224625144, 72.6562490539551, 72.89099456975362, 71.66276290661388, 69.81333296099555, 68.33452417201913, 69.83723260510055, 72.11703917316673, 69.15998792175722, 71.46351377307984, 69.52440528934791, 71.7008095678856, 68.98927998089862, 70.22418670595457, 69.20987637232129], \"xaxis\": \"x1\", \"yaxis\": \"y1\", \"line\": {}, \"marker\": {\"line\": {}}}, {\"type\": \"scatter\", \"mode\": \"lines+markers\", \"name\": \"Female\", \"x\": [1978.0, 1979.0, 1980.0, 1981.0, 1982.0, 1983.0, 1984.0, 1985.0, 1986.0, 1987.0, 1988.0, 1989.0, 1990.0, 1991.0, 1992.0, 1993.0, 1994.0, 1995.0, 1996.0, 1997.0, 1998.0, 1999.0, 2000.0, 2001.0, 2002.0, 2003.0, 2004.0, 2005.0, 2006.0, 2007.0, 2008.0, 2009.0, 2010.0, 2011.0, 2012.0, 2013.0, 2014.0], \"y\": [23.684204293630447, 19.875775162995332, 13.004483721772031, 25.45454082644712, 20.890410243479103, 21.4285701530613, 16.77018529377731, 17.857141581632742, 21.59090847753101, 28.502414082008983, 23.05825186751816, 26.595743737739586, 20.18181781487604, 26.923076275887592, 26.015228096253452, 27.96460127496281, 21.929824286593682, 23.021581905698497, 23.889739297247484, 26.16033718480539, 24.621594100690274, 26.2729118885354, 27.549019337754714, 26.302082990858295, 25.592416819029225, 27.400468170175895, 28.106666516764445, 29.020728884769632, 28.4333670985078, 27.194492098712036, 28.04986634594875, 27.59885842805194, 27.534417936375412, 25.5836111215645, 27.871362833570583, 26.681401873440475, 27.753086351226948], \"xaxis\": \"x1\", \"yaxis\": \"y1\", \"line\": {}, \"marker\": {\"line\": {}}}, {\"type\": \"scatter\", \"mode\": \"lines+markers\", \"name\": \"Unknown\", \"x\": [1978.0, 1979.0, 1980.0, 1981.0, 1982.0, 1983.0, 1984.0, 1985.0, 1986.0, 1987.0, 1988.0, 1989.0, 1990.0, 1991.0, 1992.0, 1993.0, 1994.0, 1995.0, 1996.0, 1997.0, 1998.0, 1999.0, 2000.0, 2001.0, 2002.0, 2003.0, 2004.0, 2005.0, 2006.0, 2007.0, 2008.0, 2009.0, 2010.0, 2011.0, 2012.0, 2013.0, 2014.0], \"y\": [0.0, 6.211179738436041, 7.623318043797397, 0.0, 8.561643542409469, 5.357142538265325, 1.8633539215308124, 1.4285713265306195, 2.556818109181304, 3.8647341128147774, 0.7281553221321524, 2.4822694155223615, 3.9999999272727287, 0.48076921921227844, 4.06091365404932, 0.8849557365494561, 1.5037593796521382, 0.359712217276539, 1.6845328991648867, 2.1097046116778535, 2.421796141051502, 3.0549897544808604, 1.5686274356016918, 1.0416666531032988, 1.51658766334988, 0.936768142570116, 2.0799999889066667, 2.6447462284149665, 1.7293997877446603, 0.6884681543977731, 2.790145435470034, 0.937627391204128, 2.941176461385555, 2.7155788341325446, 3.1393568026824012, 3.0944111048487177, 3.03703702953818], \"xaxis\": \"x1\", \"yaxis\": \"y1\", \"line\": {}, \"marker\": {\"line\": {}}}], {\"width\": 864, \"height\": 648, \"hovermode\": \"compare\", \"margin\": {\"l\": 108, \"r\": 86, \"t\": 77, \"b\": 81, \"pad\": 0}, \"xaxis1\": {\"anchor\": \"y1\", \"type\": \"linear\", \"range\": [1978.0, 2017.0], \"domain\": [0.0, 1.0], \"side\": \"bottom\", \"tickfont\": {}, \"tickmode\": false}, \"yaxis1\": {\"anchor\": \"x1\", \"type\": \"linear\", \"range\": [0.0, 90.0], \"domain\": [0.0, 1.0], \"side\": \"left\", \"tickfont\": {}, \"title\": \"Percentage\", \"titlefont\": {}}, \"title\": \"Authorship by Year\", \"titlefont\": {}, \"showlegend\": false, \"annotations\": [{\"x\": 2014, \"y\": 28.753086351226948, \"xref\": \"x\", \"yref\": \"y\", \"text\": \"27.8\", \"ax\": 0, \"ay\": -40, \"font\": {\"family\": \"Courier New, monospace\", \"size\": 14, \"color\": \"#ff7f0e\"}, \"arrowhead\": 2, \"arrowsize\": 1, \"arrowwidth\": 2, \"opacity\": 0.7, \"align\": \"center\", \"arrowcolor\": \"#ff7f0e\", \"showarrow\": true}, {\"x\": 2014, \"y\": 70.20987637232129, \"xref\": \"x\", \"yref\": \"y\", \"text\": \"69.2\", \"ax\": 0, \"ay\": -40, \"font\": {\"family\": \"Courier New, monospace\", \"size\": 14, \"color\": \"#1f77b4\"}, \"arrowhead\": 2, \"arrowsize\": 1, \"arrowwidth\": 2, \"opacity\": 0.7, \"align\": \"center\", \"arrowcolor\": \"#1f77b4\", \"showarrow\": true}, {\"x\": 2014, \"y\": 4.03703702953818, \"xref\": \"x\", \"yref\": \"y\", \"text\": \"3.0\", \"ax\": 0, \"ay\": -40, \"font\": {\"family\": \"Courier New, monospace\", \"size\": 14, \"color\": \"#2ca02c\"}, \"arrowhead\": 2, \"arrowsize\": 1, \"arrowwidth\": 2, \"opacity\": 0.7, \"align\": \"center\", \"arrowcolor\": \"#2ca02c\", \"showarrow\": true}, {\"x\": 2011, \"y\": 26.5836111215645, \"xref\": \"x\", \"yref\": \"y\", \"text\": \"25.6\", \"ax\": 0, \"ay\": -40, \"font\": {\"family\": \"Courier New, monospace\", \"size\": 14, \"color\": \"#ff7f0e\"}, \"arrowhead\": 2, \"arrowsize\": 1, \"arrowwidth\": 2, \"opacity\": 0.7, \"align\": \"center\", \"arrowcolor\": \"#ff7f0e\", \"showarrow\": true}, {\"x\": 2011, \"y\": 72.7008095678856, \"xref\": \"x\", \"yref\": \"y\", \"text\": \"71.7\", \"ax\": 0, \"ay\": -40, \"font\": {\"family\": \"Courier New, monospace\", \"size\": 14, \"color\": \"#1f77b4\"}, \"arrowhead\": 2, \"arrowsize\": 1, \"arrowwidth\": 2, \"opacity\": 0.7, \"align\": \"center\", \"arrowcolor\": \"#1f77b4\", \"showarrow\": true}, {\"x\": 2011, \"y\": 3.7155788341325446, \"xref\": \"x\", \"yref\": \"y\", \"text\": \"2.7\", \"ax\": 0, \"ay\": -40, \"font\": {\"family\": \"Courier New, monospace\", \"size\": 14, \"color\": \"#2ca02c\"}, \"arrowhead\": 2, \"arrowsize\": 1, \"arrowwidth\": 2, \"opacity\": 0.7, \"align\": \"center\", \"arrowcolor\": \"#2ca02c\", \"showarrow\": true}, {\"x\": 2008, \"y\": 29.04986634594875, \"xref\": \"x\", \"yref\": \"y\", \"text\": \"28.0\", \"ax\": 0, \"ay\": -40, \"font\": {\"family\": \"Courier New, monospace\", \"size\": 14, \"color\": \"#ff7f0e\"}, \"arrowhead\": 2, \"arrowsize\": 1, \"arrowwidth\": 2, \"opacity\": 0.7, \"align\": \"center\", \"arrowcolor\": \"#ff7f0e\", \"showarrow\": true}, {\"x\": 2008, \"y\": 70.15998792175722, \"xref\": \"x\", \"yref\": \"y\", \"text\": \"69.2\", \"ax\": 0, \"ay\": -40, \"font\": {\"family\": \"Courier New, monospace\", \"size\": 14, \"color\": \"#1f77b4\"}, \"arrowhead\": 2, \"arrowsize\": 1, \"arrowwidth\": 2, \"opacity\": 0.7, \"align\": \"center\", \"arrowcolor\": \"#1f77b4\", \"showarrow\": true}, {\"x\": 2008, \"y\": 3.790145435470034, \"xref\": \"x\", \"yref\": \"y\", \"text\": \"2.8\", \"ax\": 0, \"ay\": -40, \"font\": {\"family\": \"Courier New, monospace\", \"size\": 14, \"color\": \"#2ca02c\"}, \"arrowhead\": 2, \"arrowsize\": 1, \"arrowwidth\": 2, \"opacity\": 0.7, \"align\": \"center\", \"arrowcolor\": \"#2ca02c\", \"showarrow\": true}, {\"x\": 2005, \"y\": 30.020728884769632, \"xref\": \"x\", \"yref\": \"y\", \"text\": \"29.0\", \"ax\": 0, \"ay\": -40, \"font\": {\"family\": \"Courier New, monospace\", \"size\": 14, \"color\": \"#ff7f0e\"}, \"arrowhead\": 2, \"arrowsize\": 1, \"arrowwidth\": 2, \"opacity\": 0.7, \"align\": \"center\", \"arrowcolor\": \"#ff7f0e\", \"showarrow\": true}, {\"x\": 2005, \"y\": 69.33452417201913, \"xref\": \"x\", \"yref\": \"y\", \"text\": \"68.3\", \"ax\": 0, \"ay\": -40, \"font\": {\"family\": \"Courier New, monospace\", \"size\": 14, \"color\": \"#1f77b4\"}, \"arrowhead\": 2, \"arrowsize\": 1, \"arrowwidth\": 2, \"opacity\": 0.7, \"align\": \"center\", \"arrowcolor\": \"#1f77b4\", \"showarrow\": true}, {\"x\": 2005, \"y\": 3.6447462284149665, \"xref\": \"x\", \"yref\": \"y\", \"text\": \"2.6\", \"ax\": 0, \"ay\": -40, \"font\": {\"family\": \"Courier New, monospace\", \"size\": 14, \"color\": \"#2ca02c\"}, \"arrowhead\": 2, \"arrowsize\": 1, \"arrowwidth\": 2, \"opacity\": 0.7, \"align\": \"center\", \"arrowcolor\": \"#2ca02c\", \"showarrow\": true}, {\"x\": 2000, \"y\": 28.549019337754714, \"xref\": \"x\", \"yref\": \"y\", \"text\": \"27.5\", \"ax\": 0, \"ay\": -40, \"font\": {\"family\": \"Courier New, monospace\", \"size\": 14, \"color\": \"#ff7f0e\"}, \"arrowhead\": 2, \"arrowsize\": 1, \"arrowwidth\": 2, \"opacity\": 0.7, \"align\": \"center\", \"arrowcolor\": \"#ff7f0e\", \"showarrow\": true}, {\"x\": 2000, \"y\": 71.88235224625144, \"xref\": \"x\", \"yref\": \"y\", \"text\": \"70.9\", \"ax\": 0, \"ay\": -40, \"font\": {\"family\": \"Courier New, monospace\", \"size\": 14, \"color\": \"#1f77b4\"}, \"arrowhead\": 2, \"arrowsize\": 1, \"arrowwidth\": 2, \"opacity\": 0.7, \"align\": \"center\", \"arrowcolor\": \"#1f77b4\", \"showarrow\": true}, {\"x\": 2000, \"y\": 2.568627435601692, \"xref\": \"x\", \"yref\": \"y\", \"text\": \"1.6\", \"ax\": 0, \"ay\": -40, \"font\": {\"family\": \"Courier New, monospace\", \"size\": 14, \"color\": \"#2ca02c\"}, \"arrowhead\": 2, \"arrowsize\": 1, \"arrowwidth\": 2, \"opacity\": 0.7, \"align\": \"center\", \"arrowcolor\": \"#2ca02c\", \"showarrow\": true}, {\"x\": 1995, \"y\": 24.021581905698497, \"xref\": \"x\", \"yref\": \"y\", \"text\": \"23.0\", \"ax\": 0, \"ay\": -40, \"font\": {\"family\": \"Courier New, monospace\", \"size\": 14, \"color\": \"#ff7f0e\"}, \"arrowhead\": 2, \"arrowsize\": 1, \"arrowwidth\": 2, \"opacity\": 0.7, \"align\": \"center\", \"arrowcolor\": \"#ff7f0e\", \"showarrow\": true}, {\"x\": 1995, \"y\": 77.6187022799028, \"xref\": \"x\", \"yref\": \"y\", \"text\": \"76.6\", \"ax\": 0, \"ay\": -40, \"font\": {\"family\": \"Courier New, monospace\", \"size\": 14, \"color\": \"#1f77b4\"}, \"arrowhead\": 2, \"arrowsize\": 1, \"arrowwidth\": 2, \"opacity\": 0.7, \"align\": \"center\", \"arrowcolor\": \"#1f77b4\", \"showarrow\": true}, {\"x\": 1995, \"y\": 1.359712217276539, \"xref\": \"x\", \"yref\": \"y\", \"text\": \"0.4\", \"ax\": 0, \"ay\": -40, \"font\": {\"family\": \"Courier New, monospace\", \"size\": 14, \"color\": \"#2ca02c\"}, \"arrowhead\": 2, \"arrowsize\": 1, \"arrowwidth\": 2, \"opacity\": 0.7, \"align\": \"center\", \"arrowcolor\": \"#2ca02c\", \"showarrow\": true}, {\"x\": 1990, \"y\": 21.18181781487604, \"xref\": \"x\", \"yref\": \"y\", \"text\": \"20.2\", \"ax\": 0, \"ay\": -40, \"font\": {\"family\": \"Courier New, monospace\", \"size\": 14, \"color\": \"#ff7f0e\"}, \"arrowhead\": 2, \"arrowsize\": 1, \"arrowwidth\": 2, \"opacity\": 0.7, \"align\": \"center\", \"arrowcolor\": \"#ff7f0e\", \"showarrow\": true}, {\"x\": 1990, \"y\": 76.81818043966945, \"xref\": \"x\", \"yref\": \"y\", \"text\": \"75.8\", \"ax\": 0, \"ay\": -40, \"font\": {\"family\": \"Courier New, monospace\", \"size\": 14, \"color\": \"#1f77b4\"}, \"arrowhead\": 2, \"arrowsize\": 1, \"arrowwidth\": 2, \"opacity\": 0.7, \"align\": \"center\", \"arrowcolor\": \"#1f77b4\", \"showarrow\": true}, {\"x\": 1990, \"y\": 4.999999927272729, \"xref\": \"x\", \"yref\": \"y\", \"text\": \"4.0\", \"ax\": 0, \"ay\": -40, \"font\": {\"family\": \"Courier New, monospace\", \"size\": 14, \"color\": \"#2ca02c\"}, \"arrowhead\": 2, \"arrowsize\": 1, \"arrowwidth\": 2, \"opacity\": 0.7, \"align\": \"center\", \"arrowcolor\": \"#2ca02c\", \"showarrow\": true}, {\"x\": 2017, \"y\": 71.20987637232129, \"xref\": \"x\", \"yref\": \"y\", \"text\": \"Males\", \"ax\": 0, \"ay\": -2, \"font\": {\"family\": \"Courier New, monospace\", \"size\": 14, \"color\": \"#1f77b4\"}}, {\"x\": 2017, \"y\": 29.753086351226948, \"xref\": \"x\", \"yref\": \"y\", \"text\": \"Females\", \"ax\": 0, \"ay\": -2, \"font\": {\"family\": \"Courier New, monospace\", \"size\": 14, \"color\": \"#ff7f0e\"}}, {\"x\": 2017, \"y\": 5.03703702953818, \"xref\": \"x\", \"yref\": \"y\", \"text\": \"Unknown\", \"ax\": 0, \"ay\": -2, \"font\": {\"family\": \"Courier New, monospace\", \"size\": 14, \"color\": \"#2ca02c\"}}]}, {\"showLink\": true, \"linkText\": \"Export to plot.ly\"})});</script>"
      ]
     },
     "metadata": {},
     "output_type": "display_data"
    },
    {
     "data": {
      "text/html": [
       "<script>function downloadimage(format, height, width, filename) {var p = document.getElementById('c443f8b9-04e0-4280-bb19-73bd6da9b33b');Plotly.downloadImage(p, {format: format, height: height, width: width, filename: filename});};if(document.readyState == 'complete') {{downloadimage('svg', 600, 800, 'plot_image');}}</script>"
      ],
      "text/plain": [
       "<IPython.core.display.HTML object>"
      ]
     },
     "metadata": {},
     "output_type": "display_data"
    }
   ],
   "source": [
    "import plotly.offline as offline\n",
    "offline.iplot(py_fig1,\n",
    "             image='svg')"
   ]
  },
  {
   "cell_type": "code",
   "execution_count": null,
   "metadata": {
    "collapsed": true
   },
   "outputs": [],
   "source": []
  }
 ],
 "metadata": {
  "kernelspec": {
   "display_name": "Python 3",
   "language": "python",
   "name": "python3"
  },
  "language_info": {
   "codemirror_mode": {
    "name": "ipython",
    "version": 3
   },
   "file_extension": ".py",
   "mimetype": "text/x-python",
   "name": "python",
   "nbconvert_exporter": "python",
   "pygments_lexer": "ipython3",
   "version": "3.6.4"
  }
 },
 "nbformat": 4,
 "nbformat_minor": 2
}
