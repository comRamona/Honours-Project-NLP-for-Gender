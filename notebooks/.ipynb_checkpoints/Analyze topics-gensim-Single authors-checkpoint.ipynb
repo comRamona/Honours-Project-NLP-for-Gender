{
 "cells": [
  {
   "cell_type": "code",
   "execution_count": 1,
   "metadata": {},
   "outputs": [],
   "source": [
    "from gensim.models.ldamodel import LdaModel\n",
    "from gensim.corpora import MmCorpus\n",
    "from gensim.corpora import Dictionary\n",
    "from collections import Counter\n",
    "from numpy.random import seed\n",
    "from metadata.metadata import ACL_metadata\n",
    "from _topic_modeling.lda_loader import Loader\n",
    "from metadata import Gender\n",
    "import matplotlib.pyplot as plt\n",
    "import numpy as np\n",
    "import logging\n",
    "import gensim \n",
    "seed(1)\n",
    "logging.basicConfig(format='%(levelname)s : %(message)s', level=logging.INFO)\n",
    "logging.root.level = logging.INFO"
   ]
  },
  {
   "cell_type": "code",
   "execution_count": 2,
   "metadata": {},
   "outputs": [
    {
     "name": "stderr",
     "output_type": "stream",
     "text": [
      "INFO:gensim.corpora.indexedcorpus:loaded corpus index from /home/ramona/Desktop/Honours-LDA/aan/../acl_bow.mm.index\n",
      "INFO:gensim.matutils:initializing corpus reader from /home/ramona/Desktop/Honours-LDA/aan/../acl_bow.mm\n",
      "INFO:gensim.matutils:accepted corpus with 23595 documents, 60434 features, 16454656 non-zero entries\n",
      "INFO:gensim.utils:loading LdaMallet object from /home/ramona/Desktop/Honours-LDA/aan/../malltepy\n",
      "INFO:gensim.utils:loaded /home/ramona/Desktop/Honours-LDA/aan/../malltepy\n"
     ]
    }
   ],
   "source": [
    "loader = Loader()"
   ]
  },
  {
   "cell_type": "code",
   "execution_count": 3,
   "metadata": {},
   "outputs": [],
   "source": [
    "doc_topics = list(model.load_document_topics())"
   ]
  },
  {
   "cell_type": "code",
   "execution_count": 5,
   "metadata": {},
   "outputs": [],
   "source": [
    "acl = ACL_metadata()\n",
    "df = acl.meta_df"
   ]
  },
  {
   "cell_type": "code",
   "execution_count": 6,
   "metadata": {},
   "outputs": [],
   "source": [
    "females_topics = []\n",
    "males_topics = []\n",
    "for i, file in enumerate(acl.train_files):\n",
    "    try:\n",
    "        topics = doc_topics[i]\n",
    "        top_topic = topics[0][0]\n",
    "        genders = df.loc[acl.get_id(file)][\"genders\"]\n",
    "        if len(genders) == 1: # signle authors\n",
    "            for g in genders:\n",
    "                if g == Gender.male:\n",
    "                    males_topics.append(top_topic)\n",
    "                elif g == Gender.female:\n",
    "                    females_topics.append(top_topic)\n",
    "    except KeyError:\n",
    "        pass"
   ]
  },
  {
   "cell_type": "code",
   "execution_count": 7,
   "metadata": {},
   "outputs": [],
   "source": [
    "o_fem_counter = Counter(females_topics)\n",
    "o_male_counter = Counter(males_topics)"
   ]
  },
  {
   "cell_type": "code",
   "execution_count": 8,
   "metadata": {},
   "outputs": [],
   "source": [
    "fem_counter = Counter()\n",
    "male_counter = Counter()\n",
    "total = sum(o_fem_counter.values(), 0.0)\n",
    "for key in o_fem_counter:\n",
    "    fem_counter[key] = o_fem_counter[key] / total\n",
    "total = sum(o_male_counter.values(), 0.0)\n",
    "for key in o_male_counter:\n",
    "    male_counter[key] = o_male_counter[key] / total"
   ]
  },
  {
   "cell_type": "code",
   "execution_count": 11,
   "metadata": {},
   "outputs": [
    {
     "data": {
      "image/png": "[encoded data removed]",
      "text/plain": [
       "<matplotlib.figure.Figure at 0x7fb01fc14d68>"
      ]
     },
     "metadata": {},
     "output_type": "display_data"
    }
   ],
   "source": [
    "fig, (ax1) = plt.subplots(1,1, figsize=(12,8))\n",
    "ax1.spines[\"top\"].set_visible(False)    \n",
    "ax1.spines[\"bottom\"].set_visible(False)    \n",
    "ax1.spines[\"right\"].set_visible(False)    \n",
    "ax1.spines[\"left\"].set_visible(False) \n",
    "\n",
    "labels, values = zip(*Counter(male_counter).items())\n",
    "#values = values/np.sum(values)\n",
    "indexes = np.arange(1,len(labels)+1)\n",
    "width = 1\n",
    "\n",
    "ax1.bar(labels, values, width,label=\"males\",color=\"b\")\n",
    "ax1.set_title(\"Males\")\n",
    "\n",
    "ax1.set_xlabel(\"Topic id\")\n",
    "ax1.set_ylabel(\"Frequency\")\n",
    "ax1.set_title(\"Topics\")\n",
    "ax1.set_xticks(np.arange(1,120,5))\n",
    "plt.legend()\n",
    "plt.savefig(\"../plots/Topics_count_males_single.pdf\",bbox_inces=\"tight\")\n",
    "plt.show()\n"
   ]
  },
  {
   "cell_type": "code",
   "execution_count": 12,
   "metadata": {},
   "outputs": [
    {
     "data": {
      "image/png": "[encoded data removed]",
      "text/plain": [
       "<matplotlib.figure.Figure at 0x7fb020db3b00>"
      ]
     },
     "metadata": {},
     "output_type": "display_data"
    }
   ],
   "source": [
    "fig, (ax1) = plt.subplots(1,1, figsize=(12,8))\n",
    "ax1.spines[\"top\"].set_visible(False)    \n",
    "ax1.spines[\"bottom\"].set_visible(False)    \n",
    "ax1.spines[\"right\"].set_visible(False)    \n",
    "ax1.spines[\"left\"].set_visible(False) \n",
    "\n",
    "labels, values = zip(*Counter(fem_counter).items())\n",
    "#values = values/np.sum(values)\n",
    "indexes = np.arange(1,len(labels)+1)\n",
    "\n",
    "ax1.bar(labels, values, width,label=\"Females\",alpha=0.5,color=\"r\")\n",
    "ax1.set_xlabel(\"Topic id\")\n",
    "ax1.set_ylabel(\"Frequency\")\n",
    "ax1.set_title(\"Topics\")\n",
    "ax1.set_xticks(np.arange(1,120,5))\n",
    "plt.legend()\n",
    "plt.savefig(\"../plots/Topics_count_females_single.pdf\",bbox_inces=\"tight\")\n",
    "plt.show()\n"
   ]
  },
  {
   "cell_type": "code",
   "execution_count": 13,
   "metadata": {},
   "outputs": [
    {
     "name": "stdout",
     "output_type": "stream",
     "text": [
      "Most common female topics:\n",
      "Topic  26\n",
      "[('plan', 0.025800567663629467), ('action', 0.021057252201188172), ('act', 0.019917237029397475), ('goal', 0.019365341834081978), ('speaker', 0.017036301492460985), ('discourse', 0.017002207580781262), ('utterance', 0.016944674104821731), ('agent', 0.016652744986064113), ('belief', 0.014374845511962702), ('proposition', 0.0095590804872019985)]\n",
      "Topic  11\n",
      "[('theory', 0.015351736190324511), ('element', 0.0098700493717689894), ('property', 0.0087369091636930254), ('meaning', 0.0086314507207761737), ('view', 0.0074627989962078008), ('description', 0.0067622536254030021), ('aspect', 0.0064254322720053028), ('kind', 0.0064028340342374059), ('category', 0.0061241224351000134), ('basic', 0.0060283489512265465)]\n",
      "Topic  15\n",
      "[('ion', 0.095312222489212992), ('ica', 0.00820125996426967), ('descr', 0.0056667049740380497), ('par', 0.0051756741226741329), ('iona', 0.0051735846296896062), ('ran', 0.0050523940365870225), ('const', 0.0046595693554958885), ('ruc', 0.0043168925060334106), ('ind', 0.0042040598848689364), ('con', 0.0040640638549056069)]\n",
      "Topic  14\n",
      "[('template', 0.054005361428466375), ('slot', 0.039054195886006136), ('fill', 0.016060887643979758), ('message', 0.010605868156992252), ('object', 0.0099841563772252936), ('extraction', 0.0099206481846684531), ('entity', 0.0077881099293387792), ('event', 0.0076477233984236599), ('filler', 0.0072533040972811809), ('person', 0.0072098511234265006)]\n",
      "Topic  12\n",
      "[('prosodic', 0.02517619123801184), ('speaker', 0.022944856563070989), ('repair', 0.018406406035549792), ('utterance', 0.015834056061231193), ('pitch', 0.015501460892702273), ('pause', 0.014259491592499347), ('accent', 0.013295386610307925), ('turn', 0.012474423852546669), ('boundary', 0.012411272871180419), ('speak', 0.0122807608430235)]\n"
     ]
    }
   ],
   "source": [
    "print(\"Most common female topics:\")\n",
    "for t, c in o_fem_counter.most_common(5):\n",
    "    print(\"Topic \",t)\n",
    "    print(model.show_topic(t,10))"
   ]
  },
  {
   "cell_type": "code",
   "execution_count": 14,
   "metadata": {},
   "outputs": [
    {
     "name": "stdout",
     "output_type": "stream",
     "text": [
      "Most common male topics:\n",
      "Topic  15\n",
      "[('ion', 0.095312222489212992), ('ica', 0.00820125996426967), ('descr', 0.0056667049740380497), ('par', 0.0051756741226741329), ('iona', 0.0051735846296896062), ('ran', 0.0050523940365870225), ('const', 0.0046595693554958885), ('ruc', 0.0043168925060334106), ('ind', 0.0042040598848689364), ('con', 0.0040640638549056069)]\n",
      "Topic  11\n",
      "[('theory', 0.015351736190324511), ('element', 0.0098700493717689894), ('property', 0.0087369091636930254), ('meaning', 0.0086314507207761737), ('view', 0.0074627989962078008), ('description', 0.0067622536254030021), ('aspect', 0.0064254322720053028), ('kind', 0.0064028340342374059), ('category', 0.0061241224351000134), ('basic', 0.0060283489512265465)]\n",
      "Topic  55\n",
      "[('grammar', 0.038628878628394307), ('unification', 0.016610296729198282), ('constraint', 0.010862984727648446), ('head', 0.010842804559103678), ('formalism', 0.0086169319686158017), ('hpsg', 0.0085220851764553941), ('description', 0.0072265183558813083), ('lfg', 0.006304284653385425), ('default', 0.005957185754415421), ('cat', 0.0059127893836169324)]\n",
      "Topic  87\n",
      "[('logical', 0.019184853267046616), ('logic', 0.018957946638102324), ('interpretation', 0.013481524485473887), ('formula', 0.012952075684603874), ('predicate', 0.011927929548558019), ('variable', 0.01137395030131565), ('scope', 0.0092234478360057898), ('expression', 0.0087614577626597551), ('quantifier', 0.0086408497346623387), ('logical_form', 0.0085386395414441887)]\n",
      "Topic  56\n",
      "[('issue', 0.0058319209358459563), ('attempt', 0.0052892980936821953), ('strategy', 0.0051166784781213745), ('involve', 0.0049032711052972369), ('suggest', 0.0048260657076202454), ('difficult', 0.0045034054135550828), ('reason', 0.0043635616743665697), ('change', 0.0043271440339528941), ('expect', 0.0041771033554485523), ('simply', 0.0039250932837859194)]\n"
     ]
    }
   ],
   "source": [
    "print(\"Most common male topics:\")\n",
    "for t, c in o_male_counter.most_common(5):\n",
    "    print(\"Topic \",t)\n",
    "    print(model.show_topic(t,10))"
   ]
  },
  {
   "cell_type": "code",
   "execution_count": null,
   "metadata": {},
   "outputs": [],
   "source": []
  }
 ],
 "metadata": {
  "kernelspec": {
   "display_name": "Python 3",
   "language": "python",
   "name": "python3"
  },
  "language_info": {
   "codemirror_mode": {
    "name": "ipython",
    "version": 3
   },
   "file_extension": ".py",
   "mimetype": "text/x-python",
   "name": "python",
   "nbconvert_exporter": "python",
   "pygments_lexer": "ipython3",
   "version": "3.6.4"
  }
 },
 "nbformat": 4,
 "nbformat_minor": 2
}
