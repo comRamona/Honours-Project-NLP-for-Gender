{
 "cells": [
  {
   "cell_type": "code",
   "execution_count": 18,
   "metadata": {},
   "outputs": [],
   "source": [
    "from gensim.models.ldamodel import LdaModel\n",
    "from gensim.corpora import MmCorpus\n",
    "from gensim.corpora import Dictionary\n",
    "from collections import Counter\n",
    "from numpy.random import seed\n",
    "from metadata.metadata import ACL_metadata\n",
    "from metadata import Gender\n",
    "import matplotlib.pyplot as plt\n",
    "import numpy as np\n",
    "import logging\n",
    "import gensim \n",
    "seed(1)\n",
    "logging.basicConfig(format='%(levelname)s : %(message)s', level=logging.INFO)\n",
    "logging.root.level = logging.INFO"
   ]
  },
  {
   "cell_type": "code",
   "execution_count": 2,
   "metadata": {},
   "outputs": [
    {
     "name": "stderr",
     "output_type": "stream",
     "text": [
      "INFO : loading LdaMallet object from ../malltepy\n",
      "INFO : loaded ../malltepy\n"
     ]
    }
   ],
   "source": [
    "model = gensim.models.wrappers.ldamallet.LdaMallet.load(\"../malltepy\")"
   ]
  },
  {
   "cell_type": "code",
   "execution_count": 5,
   "metadata": {},
   "outputs": [],
   "source": [
    "doc_topics = list(model.load_document_topics())"
   ]
  },
  {
   "cell_type": "code",
   "execution_count": 7,
   "metadata": {},
   "outputs": [],
   "source": [
    "acl = ACL_metadata()\n",
    "df = acl.meta_df"
   ]
  },
  {
   "cell_type": "code",
   "execution_count": 47,
   "metadata": {},
   "outputs": [],
   "source": [
    "females_topics = []\n",
    "males_topics = []\n",
    "for i, file in enumerate(acl.train_files):\n",
    "    try:\n",
    "        topics = doc_topics[i]\n",
    "        top_topic = topics[0][0]\n",
    "        genders = df.loc[acl.get_id(file)][\"genders\"]\n",
    "        for g in genders:\n",
    "            if g == Gender.male:\n",
    "                males_topics.append(top_topic)\n",
    "            elif g == Gender.female:\n",
    "                females_topics.append(top_topic)\n",
    "    except KeyError:\n",
    "        pass"
   ]
  },
  {
   "cell_type": "code",
   "execution_count": 42,
   "metadata": {},
   "outputs": [],
   "source": [
    "o_fem_counter = Counter(females_topics)\n",
    "o_male_counter = Counter(males_topics)"
   ]
  },
  {
   "cell_type": "code",
   "execution_count": 51,
   "metadata": {},
   "outputs": [],
   "source": [
    "fem_counter = Counter()\n",
    "male_counter = Counter()\n",
    "total = sum(o_fem_counter.values(), 0.0)\n",
    "for key in o_fem_counter:\n",
    "    fem_counter[key] = o_fem_counter[key] / total\n",
    "total = sum(o_male_counter.values(), 0.0)\n",
    "for key in o_male_counter:\n",
    "    male_counter[key] = o_male_counter[key] / total"
   ]
  },
  {
   "cell_type": "code",
   "execution_count": 52,
   "metadata": {},
   "outputs": [
    {
     "data": {
      "image/png": "[encoded data removed]",
      "text/plain": [
       "<matplotlib.figure.Figure at 0x7fef81c439e8>"
      ]
     },
     "metadata": {},
     "output_type": "display_data"
    }
   ],
   "source": [
    "fig, (ax1) = plt.subplots(1,1, figsize=(12,8))\n",
    "ax1.spines[\"top\"].set_visible(False)    \n",
    "ax1.spines[\"bottom\"].set_visible(False)    \n",
    "ax1.spines[\"right\"].set_visible(False)    \n",
    "ax1.spines[\"left\"].set_visible(False) \n",
    "\n",
    "labels, values = zip(*Counter(male_counter).items())\n",
    "#values = values/np.sum(values)\n",
    "indexes = np.arange(1,len(labels)+1)\n",
    "width = 1\n",
    "\n",
    "ax1.bar(labels, values, width,label=\"males\",color=\"b\")\n",
    "ax1.set_title(\"Males\")\n",
    "\n",
    "ax1.set_xlabel(\"Topic id\")\n",
    "ax1.set_ylabel(\"Frequency\")\n",
    "ax1.set_title(\"Topics\")\n",
    "ax1.set_xticks(np.arange(1,120,5))\n",
    "plt.legend()\n",
    "plt.savefig(\"../plots/Topics_count_males.pdf\",bbox_inces=\"tight\")\n",
    "plt.show()\n"
   ]
  },
  {
   "cell_type": "code",
   "execution_count": 53,
   "metadata": {},
   "outputs": [
    {
     "data": {
      "image/png": "[encoded data removed]",
      "text/plain": [
       "<matplotlib.figure.Figure at 0x7fef81c43fd0>"
      ]
     },
     "metadata": {},
     "output_type": "display_data"
    }
   ],
   "source": [
    "fig, (ax1) = plt.subplots(1,1, figsize=(12,8))\n",
    "ax1.spines[\"top\"].set_visible(False)    \n",
    "ax1.spines[\"bottom\"].set_visible(False)    \n",
    "ax1.spines[\"right\"].set_visible(False)    \n",
    "ax1.spines[\"left\"].set_visible(False) \n",
    "\n",
    "labels, values = zip(*Counter(fem_counter).items())\n",
    "#values = values/np.sum(values)\n",
    "indexes = np.arange(1,len(labels)+1)\n",
    "\n",
    "ax1.bar(labels, values, width,label=\"Females\",alpha=0.5,color=\"r\")\n",
    "ax1.set_xlabel(\"Topic id\")\n",
    "ax1.set_ylabel(\"Frequency\")\n",
    "ax1.set_title(\"Topics\")\n",
    "ax1.set_xticks(np.arange(1,120,5))\n",
    "plt.legend()\n",
    "plt.savefig(\"../plots/Topics_count_females.pdf\",bbox_inces=\"tight\")\n",
    "plt.show()\n"
   ]
  },
  {
   "cell_type": "code",
   "execution_count": 63,
   "metadata": {},
   "outputs": [
    {
     "name": "stdout",
     "output_type": "stream",
     "text": [
      "Most common female topics:\n",
      "Topic  89\n",
      "[('dialogue', 0.08174842030855628), ('user', 0.033397232431501014), ('utterance', 0.032288951852453784), ('dialog', 0.022731500427843297), ('act', 0.015118435248805073), ('turn', 0.013307199320150146), ('speak', 0.011997235172831069), ('action', 0.010399431369823048), ('dialogue_act', 0.0085490335832512573), ('agent', 0.0082846910423124299)]\n",
      "Topic  30\n",
      "[('sentiment', 0.057720306932208205), ('opinion', 0.037948975799575894), ('review', 0.028760684694926), ('polarity', 0.027811905646765625), ('negative', 0.025376560348031391), ('positive', 0.02423102988435389), ('aspect', 0.015436241610738255), ('lexicon', 0.012631440876199638), ('sentiment_analysis', 0.011042126664189056), ('positive_negative', 0.010412522134534245)]\n",
      "Topic  9\n",
      "[('tool', 0.023772462259719445), ('resource', 0.019970341988192059), ('project', 0.012366101445137284), ('format', 0.011235044348859273), ('xml', 0.010656621012977683), ('file', 0.010527673135551851), ('annotation', 0.00985530206040287), ('nlp', 0.0095476692671155276), ('document', 0.0084497701964613026), ('component', 0.0077902939090549045)]\n",
      "Topic  91\n",
      "[('summary', 0.073267438812230398), ('summarization', 0.04557207883510879), ('document', 0.035795143109077478), ('content', 0.012875050642263054), ('rouge', 0.01109959247873025), ('topic', 0.0086389742856461949), ('multi', 0.0080878673053549725), ('length', 0.0078823192964895972), ('multi_document', 0.0066103048068444506), ('lin', 0.0061634613093110267)]\n",
      "Topic  19\n",
      "[('translation', 0.054998681638785768), ('bleu', 0.018241515403899837), ('smt', 0.016563220651814526), ('koehn', 0.010749875488107545), ('baseline', 0.010739412303867612), ('machine_translation', 0.010494573792653171), ('parallel', 0.0094503480055078207), ('mos', 0.0092076021311413656), ('statistical_machine', 0.0089627636199269244), ('target', 0.006457877312886876)]\n"
     ]
    }
   ],
   "source": [
    "print(\"Most common female topics:\")\n",
    "for t, c in o_fem_counter.most_common(5):\n",
    "    print(\"Topic \",t)\n",
    "    print(model.show_topic(t,10))"
   ]
  },
  {
   "cell_type": "code",
   "execution_count": 65,
   "metadata": {},
   "outputs": [
    {
     "name": "stdout",
     "output_type": "stream",
     "text": [
      "Most common male topics:\n",
      "Topic  89\n",
      "[('dialogue', 0.08174842030855628), ('user', 0.033397232431501014), ('utterance', 0.032288951852453784), ('dialog', 0.022731500427843297), ('act', 0.015118435248805073), ('turn', 0.013307199320150146), ('speak', 0.011997235172831069), ('action', 0.010399431369823048), ('dialogue_act', 0.0085490335832512573), ('agent', 0.0082846910423124299)]\n",
      "Topic  19\n",
      "[('translation', 0.054998681638785768), ('bleu', 0.018241515403899837), ('smt', 0.016563220651814526), ('koehn', 0.010749875488107545), ('baseline', 0.010739412303867612), ('machine_translation', 0.010494573792653171), ('parallel', 0.0094503480055078207), ('mos', 0.0092076021311413656), ('statistical_machine', 0.0089627636199269244), ('target', 0.006457877312886876)]\n",
      "Topic  48\n",
      "[('translation', 0.079531624452575694), ('bleu', 0.021061859689187664), ('target', 0.019621191282372986), ('reorder', 0.015776110630668427), ('smt', 0.012500964733308135), ('reordering', 0.011677725643699748), ('statistical_machine', 0.011578778637737201), ('alignment', 0.011372968865335105), ('och', 0.010385477745828889), ('decoder', 0.0095444281951472427)]\n",
      "Topic  9\n",
      "[('tool', 0.023772462259719445), ('resource', 0.019970341988192059), ('project', 0.012366101445137284), ('format', 0.011235044348859273), ('xml', 0.010656621012977683), ('file', 0.010527673135551851), ('annotation', 0.00985530206040287), ('nlp', 0.0095476692671155276), ('document', 0.0084497701964613026), ('component', 0.0077902939090549045)]\n",
      "Topic  35\n",
      "[('recognition', 0.047796569828103944), ('speech_recognition', 0.020283790403600104), ('speaker', 0.018482078362019577), ('rate', 0.016796605806992635), ('acoustic', 0.016475563415558933), ('asr', 0.015960788546535924), ('error_rate', 0.011859195235288094), ('phone', 0.011078730111285471), ('speak', 0.010630377806007367), ('vocabulary', 0.010406201653368316)]\n"
     ]
    }
   ],
   "source": [
    "print(\"Most common male topics:\")\n",
    "for t, c in o_male_counter.most_common(5):\n",
    "    print(\"Topic \",t)\n",
    "    print(model.show_topic(t,10))"
   ]
  },
  {
   "cell_type": "code",
   "execution_count": null,
   "metadata": {},
   "outputs": [],
   "source": []
  }
 ],
 "metadata": {
  "kernelspec": {
   "display_name": "Python 3",
   "language": "python",
   "name": "python3"
  },
  "language_info": {
   "codemirror_mode": {
    "name": "ipython",
    "version": 3
   },
   "file_extension": ".py",
   "mimetype": "text/x-python",
   "name": "python",
   "nbconvert_exporter": "python",
   "pygments_lexer": "ipython3",
   "version": "3.6.4"
  }
 },
 "nbformat": 4,
 "nbformat_minor": 2
}
