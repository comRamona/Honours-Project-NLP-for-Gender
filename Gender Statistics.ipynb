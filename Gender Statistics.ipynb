{
 "cells": [
  {
   "cell_type": "code",
   "execution_count": 1,
   "metadata": {
    "collapsed": true
   },
   "outputs": [],
   "source": [
    "import os\n",
    "from enum import Enum\n",
    "import pandas as pd\n",
    "import re\n",
    "from collections import Counter\n",
    "import html\n",
    "import matplotlib.pyplot as plt\n",
    "import seaborn as sns\n",
    "%matplotlib inline\n",
    "class Gender(Enum):\n",
    "    male = 0\n",
    "    female = 1\n",
    "    unknown = 2\n"
   ]
  },
  {
   "cell_type": "code",
   "execution_count": 2,
   "metadata": {
    "collapsed": true
   },
   "outputs": [],
   "source": [
    "\n",
    "ids_path = os.path.join(os.environ[\"AAN_DIR\"],\n",
    "    \"release/2014/acl-metadata.txt\")\n",
    "\n",
    "female_paths = [os.path.join(os.environ[\"AAN_DIR\"],\"save\",\n",
    "    f) for f in [\"acl-female.txt\", \"machine_females.txt\", \"machine_femalesNAM.txt\"]]\n",
    "\n",
    "male_paths = [os.path.join(os.environ[\"AAN_DIR\"],\n",
    "    f) for f in [\"acl-male.txt\", \"machine_males.txt\", \"machine_malesNAM.txt\"]]\n",
    "\n",
    "females = set()\n",
    "males = set()\n",
    "for file in female_paths:\n",
    "    with open(file, 'r', encoding = \"utf-8\") as f:\n",
    "        females.update(map(lambda x:  html.unescape(x.strip()), f.read().split(\"\\n\")))\n",
    "\n",
    "for file in male_paths:\n",
    "    with open(file, 'r', encoding = \"utf-8\") as f:\n",
    "        males.update(map(lambda x:  html.unescape(x.strip()), f.read().split(\"\\n\")))"
   ]
  },
  {
   "cell_type": "code",
   "execution_count": 3,
   "metadata": {},
   "outputs": [
    {
     "name": "stdout",
     "output_type": "stream",
     "text": [
      "4916\n",
      "12456\n",
      "True\n",
      "26048\n",
      "18296\n",
      "16408\n",
      "1888\n",
      "4641\n",
      "11767\n"
     ]
    }
   ],
   "source": [
    "new_unkown = set()\n",
    "dic = []\n",
    "fields = [\"id\", \"authors\", \"title\", \"venue\", \"year\",\"genders\"]\n",
    "prev=[]\n",
    "known = set()\n",
    "auths = set()\n",
    "known_f = set()\n",
    "known_m = set()\n",
    "genders = dict()\n",
    "unique_ids = set()\n",
    "print(len(females))\n",
    "print(len(males))\n",
    "print(\"Adreevskaia, Alina\" in females)\n",
    "with open(ids_path,\"r\", encoding=\"utf-8\") as f:\n",
    "    paper_data = f.read().split(\"\\n\\n\")\n",
    "    for idx,paper in enumerate(paper_data):\n",
    "        values = paper.split(\"\\n\")[:len(fields)-1]\n",
    "\n",
    "        values = dict(zip(fields,[re.search(r'{(.*?)}',s).group(1) for s in values]+[[]]))\n",
    "        if(values[\"id\"]) in unique_ids:\n",
    "            continue\n",
    "        unique_ids.add(values[\"id\"])\n",
    "        values[\"year\"] = int(values[\"year\"])\n",
    "        values[\"authors\"] = values[\"authors\"].split(\"; \")\n",
    "        for auth in values[\"authors\"]: \n",
    "            auth = auth.strip() \n",
    "            auth = html.unescape(auth)\n",
    "            auths.add(auth)\n",
    "            gender = Gender.unknown\n",
    "            if auth in females:\n",
    "                gender = Gender.female\n",
    "                known.add(auth)\n",
    "                known_f.add(auth)\n",
    "            elif auth in males:\n",
    "                gender = Gender.male\n",
    "                known.add(auth)\n",
    "                known_m.add(auth)\n",
    "            # elif auth not in known_unknowns:\n",
    "            else:\n",
    "                new_unkown.add(auth)\n",
    "            values[\"genders\"].append(gender)\n",
    "            genders[auth] = gender\n",
    "        dic.append(values)\n",
    "        prev = values\n",
    "        #if idx==5:\n",
    "        #    break\n",
    "    print(idx)\n",
    "    print(len(auths))\n",
    "    print(len(known))\n",
    "    print(len(new_unkown))\n",
    "    print(len(known_f))\n",
    "    print(len(known_m))"
   ]
  },
  {
   "cell_type": "code",
   "execution_count": 4,
   "metadata": {
    "collapsed": true
   },
   "outputs": [],
   "source": [
    "df = pd.DataFrame(dic)#.set_index([\"id\"])"
   ]
  },
  {
   "cell_type": "code",
   "execution_count": 5,
   "metadata": {},
   "outputs": [
    {
     "name": "stdout",
     "output_type": "stream",
     "text": [
      "Total papers: 23766\n",
      "Females: 4641, Males: 11767, Unknown: 1888\n",
      "Females: 0.25 Males: 0.64 Unknown: 0.10\n"
     ]
    }
   ],
   "source": [
    "print(\"Total papers: {0}\".format(df.shape[0]))\n",
    "n = len(auths)\n",
    "print(\"Females: {0}, Males: {1}, Unknown: {2}\".format(len(known_f),len(known_m),len(new_unkown)))\n",
    "print(\"Females: {0:.2f} Males: {1:.2f} Unknown: {2:.2f}\".format(len(known_f)/n, len(known_m)/n,len(new_unkown)/n))"
   ]
  },
  {
   "cell_type": "code",
   "execution_count": 6,
   "metadata": {},
   "outputs": [
    {
     "data": {
      "text/plain": [
       "Counter({0: 43800, 1: 15421, 2: 3317})"
      ]
     },
     "execution_count": 6,
     "metadata": {},
     "output_type": "execute_result"
    }
   ],
   "source": [
    "from itertools import chain\n",
    "categories =list( map(lambda e: e.value,list(chain.from_iterable(df[\"genders\"].values))))\n",
    "from collections import Counter\n",
    "Counter(categories)"
   ]
  },
  {
   "cell_type": "code",
   "execution_count": 7,
   "metadata": {
    "collapsed": true
   },
   "outputs": [],
   "source": [
    "f = [0] * len(known_f)\n",
    "m = [1] * len(known_m)\n",
    "u = [2] * len(new_unkown)"
   ]
  },
  {
   "cell_type": "code",
   "execution_count": 8,
   "metadata": {},
   "outputs": [
    {
     "data": {
      "image/png": "[encoded data removed]",
      "text/plain": [
       "<matplotlib.figure.Figure at 0x7fcc1dd39860>"
      ]
     },
     "metadata": {},
     "output_type": "display_data"
    }
   ],
   "source": [
    "import numpy as np\n",
    "axes = plt.hist([m,f,u],label=[\"Males\",\"Females\",\"Unknown\"], bins=3)\n",
    "plt.legend()\n",
    "plt.xticks([0,1,2])\n",
    "plt.yticks(np.arange(0,12000,1000))\n",
    "plt.xlabel(\"Gender\")\n",
    "plt.ylabel(\"Number of authors\")\n",
    "plt.title(\"Authorship by gender\")\n",
    "plt.savefig(\"Authorshipbygender2\")\n",
    "plt.show()\n",
    "plt.show()"
   ]
  },
  {
   "cell_type": "code",
   "execution_count": 9,
   "metadata": {
    "collapsed": true
   },
   "outputs": [],
   "source": [
    "# import matplotlib.pyplot as plt\n",
    "# import numpy as np\n",
    "\n",
    "# # Plot and retrieve the axes\n",
    "# axes = pd.Series(categories).hist(figsize=(12,6),bins=[0,0.5,1,1.5,2,2.5])\n",
    "\n",
    "# # Define a different color for the first three bars\n",
    "# colors = [\"#e74c3c\", \"#2ecc71\", \"#3498db\"]\n",
    "\n",
    "# k=0\n",
    "# axes.grid(False)\n",
    "# axes.spines['top'].set_visible(False)\n",
    "# axes.spines['right'].set_visible(False)\n",
    "# axes.set_xticks([])\n",
    "# axes.set_yticklabels(np.arange(0,9000,1000))\n",
    "# ls=[\"Male\",\"Female\",\"Unknown\"]\n",
    "# for rect in axes.patches:\n",
    "#     # If there's a value in the rect and we have defined a color\n",
    "#     if rect.get_height() > 0 and k < len(colors):\n",
    "#         # Set the color\n",
    "#         rect.set_color(colors[k])\n",
    "#         rect.set_label(ls[k])\n",
    "#         # Increment the counter\n",
    "#         k += 1\n",
    "\n",
    "# plt.legend()\n",
    "# plt.xlabel(\"Gender\")\n",
    "# plt.ylabel(\"Number of authors\")\n",
    "# plt.title(\"Authorship by gender\")\n",
    "# plt.savefig(\"Authorship by gender\")\n",
    "# plt.show()"
   ]
  },
  {
   "cell_type": "code",
   "execution_count": 10,
   "metadata": {},
   "outputs": [
    {
     "name": "stdout",
     "output_type": "stream",
     "text": [
      "16316 6134 1316\n",
      "Females: 0.26 Males: 0.69 Unknown: 0.06\n"
     ]
    }
   ],
   "source": [
    "first_females = 0\n",
    "first_males = 0\n",
    "first_unknown = 0\n",
    "for paper in df[\"genders\"]:\n",
    "    if paper[0] == Gender.female:\n",
    "        first_females += 1\n",
    "    elif paper[0] == Gender.male:\n",
    "        first_males += 1\n",
    "    else:\n",
    "        first_unknown += 1\n",
    "p = df[\"genders\"].shape[0]        \n",
    "print(first_males, first_females, first_unknown)\n",
    "print(\"Females: {0:.2f} Males: {1:.2f} Unknown: {2:.2f}\".format(first_females/p, first_males/p,first_unknown/p))"
   ]
  },
  {
   "cell_type": "code",
   "execution_count": 11,
   "metadata": {},
   "outputs": [
    {
     "name": "stdout",
     "output_type": "stream",
     "text": [
      "23766\n"
     ]
    }
   ],
   "source": [
    "i = 0\n",
    "for paper in df[\"genders\"]:\n",
    "    i+=1\n",
    "print(i)"
   ]
  },
  {
   "cell_type": "code",
   "execution_count": 12,
   "metadata": {},
   "outputs": [
    {
     "data": {
      "image/png": "[encoded data removed]",
      "text/plain": [
       "<matplotlib.figure.Figure at 0x7fcc13d3f978>"
      ]
     },
     "metadata": {},
     "output_type": "display_data"
    }
   ],
   "source": [
    "plt.figure()\n",
    "df[\"year\"].value_counts().hist(bins=30)\n",
    "plt.show()"
   ]
  },
  {
   "cell_type": "code",
   "execution_count": 13,
   "metadata": {},
   "outputs": [
    {
     "data": {
      "image/png": "[encoded data removed]",
      "text/plain": [
       "<matplotlib.figure.Figure at 0x7fcc1dd392e8>"
      ]
     },
     "metadata": {},
     "output_type": "display_data"
    }
   ],
   "source": [
    "a=list(map(lambda x: int(x), list(df[\"year\"].values)))\n",
    "plt.hist(a)\n",
    "plt.xlim([1960,2016])\n",
    "plt.xticks(np.arange(1964,2015,5))\n",
    "plt.title(\"Publications by year\")\n",
    "plt.show()"
   ]
  },
  {
   "cell_type": "code",
   "execution_count": 14,
   "metadata": {},
   "outputs": [
    {
     "data": {
      "image/png": "[encoded data removed]",
      "text/plain": [
       "<matplotlib.figure.Figure at 0x7fcc13ce17f0>"
      ]
     },
     "metadata": {},
     "output_type": "display_data"
    }
   ],
   "source": [
    "from collections import defaultdict\n",
    "plt.figure()\n",
    "yrs = []\n",
    "x = []\n",
    "y = []\n",
    "z = []\n",
    "for i in range(1960,2009):\n",
    "    year = df[df[\"year\"] == i]\n",
    "    auths = set(chain.from_iterable(year[\"authors\"]))\n",
    "    yf=0\n",
    "    ym=0\n",
    "    yu=0\n",
    "    for a in auths:\n",
    "        if a in known_f: yf+=1\n",
    "        elif a in known_m: ym+=1\n",
    "        else: yu+=1\n",
    "    yrs.append(i)\n",
    "    x.append(yf)\n",
    "    y.append(ym)\n",
    "    z.append(yu)\n",
    "    plt.plot(i,yf,'.r')\n",
    "    plt.plot(i,ym,'.b')\n",
    "    plt.plot(i,yu,'.g')\n",
    "plt.show()"
   ]
  },
  {
   "cell_type": "code",
   "execution_count": 15,
   "metadata": {},
   "outputs": [
    {
     "data": {
      "image/png": "[encoded data removed]",
      "text/plain": [
       "<matplotlib.figure.Figure at 0x7fcc13cd6080>"
      ]
     },
     "metadata": {},
     "output_type": "display_data"
    }
   ],
   "source": [
    "plt.figure()\n",
    "plt.plot(yrs,x,'-xr',label=\"Female\")\n",
    "plt.plot(yrs,y,'-^b',label=\"Male\")\n",
    "plt.plot(yrs,z,'-.g',label=\"Unknown\")\n",
    "b=np.arange(1964,2015,10)\n",
    "plt.xticks(b)\n",
    "plt.legend()\n",
    "plt.title(\"Authorship by Year\")\n",
    "plt.ylabel(\"Publications\")\n",
    "plt.xlabel(\"Year\")\n",
    "plt.savefig(\"GenderByYear\")\n",
    "plt.show()\n",
    "#COOauthors\n",
    "#ratios"
   ]
  },
  {
   "cell_type": "code",
   "execution_count": null,
   "metadata": {
    "collapsed": true
   },
   "outputs": [],
   "source": []
  }
 ],
 "metadata": {
  "kernelspec": {
   "display_name": "Python 3",
   "language": "python",
   "name": "python3"
  },
  "language_info": {
   "codemirror_mode": {
    "name": "ipython",
    "version": 3
   },
   "file_extension": ".py",
   "mimetype": "text/x-python",
   "name": "python",
   "nbconvert_exporter": "python",
   "pygments_lexer": "ipython3",
   "version": "3.6.3"
  }
 },
 "nbformat": 4,
 "nbformat_minor": 2
}
